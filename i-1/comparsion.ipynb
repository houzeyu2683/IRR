{
 "cells": [
  {
   "cell_type": "code",
   "execution_count": 4,
   "metadata": {},
   "outputs": [],
   "source": [
    "from xml.etree import ElementTree as et"
   ]
  },
  {
   "cell_type": "code",
   "execution_count": 5,
   "metadata": {},
   "outputs": [],
   "source": [
    "class document:\n",
    "\n",
    "    def __init__(self, path, form):\n",
    "\n",
    "        self.path = path\n",
    "        self.form = form\n",
    "        pass\n",
    "\n",
    "    def parse(self):\n",
    "\n",
    "        if(self.form=='xml'):\n",
    "    \n",
    "            self.objective = et.parse(self.path)\n",
    "            pass\n",
    "\n",
    "        pass\n",
    "    \n",
    "    def get(self, what='string', plan=\"a\"):\n",
    "\n",
    "        if(self.form=='xml'):\n",
    "\n",
    "            if(what=='string'):\n",
    "\n",
    "                if(plan=='a'):\n",
    "\n",
    "                    ##  啥都不管，將所有 element 中的字串提取出來。\n",
    "                    root = self.objective.getroot()\n",
    "                    string = \"\".join([element.text for element in root.iter()])\n",
    "                    self.string = string\n",
    "                    pass\n",
    "                \n",
    "                if(plan=='b'):\n",
    "                    \n",
    "                    ##  假設一篇檔案只包含一篇文章資訊，定義內容為 <Abstract> 中的文字。\n",
    "                    root = self.objective.getroot()\n",
    "                    abstract = root.find(\"PubmedArticle\").find(\"MedlineCitation\").find(\"Article\").find(\"Abstract\").findall(\"AbstractText\")\n",
    "                    string = \"\".join([element.text for element in abstract])\n",
    "                    self.string = string\n",
    "                    pass\n",
    "\n",
    "                pass\n",
    "\n",
    "            pass\n",
    "\n",
    "        pass\n",
    "\n",
    "    pass\n"
   ]
  },
  {
   "cell_type": "markdown",
   "metadata": {},
   "source": [
    "輸入指定兩個文件"
   ]
  },
  {
   "cell_type": "code",
   "execution_count": 6,
   "metadata": {},
   "outputs": [],
   "source": [
    "alpha = 'hw1_data/test1.xml'\n",
    "beta = 'hw1_data/test1.xml'"
   ]
  },
  {
   "cell_type": "code",
   "execution_count": 11,
   "metadata": {},
   "outputs": [],
   "source": [
    "a_doc = document(path=alpha, form='xml')\n",
    "b_doc = document(path=beta, form='xml')\n",
    "a_doc.parse()\n",
    "b_doc.parse()\n",
    "a_doc.get(what='string', plan='a')\n",
    "b_doc.get(what='string', plan='a')"
   ]
  },
  {
   "cell_type": "markdown",
   "metadata": {},
   "source": [
    "直接比對兩者的字串是否相同"
   ]
  },
  {
   "cell_type": "code",
   "execution_count": 13,
   "metadata": {},
   "outputs": [
    {
     "data": {
      "text/plain": "True"
     },
     "execution_count": 13,
     "metadata": {},
     "output_type": "execute_result"
    }
   ],
   "source": [
    "a_doc.string==b_doc.string"
   ]
  }
 ],
 "metadata": {
  "kernelspec": {
   "display_name": "Python 3.8.12 64-bit ('kaggle': conda)",
   "name": "python3812jvsc74a57bd04cccc9253a97be6bfa179811742e359441dab23dea9b85717016d6b8ba8b672c"
  },
  "language_info": {
   "codemirror_mode": {
    "name": "ipython",
    "version": 3
   },
   "file_extension": ".py",
   "mimetype": "text/x-python",
   "name": "python",
   "nbconvert_exporter": "python",
   "pygments_lexer": "ipython3",
   "version": "3.8.12"
  },
  "orig_nbformat": 2
 },
 "nbformat": 4,
 "nbformat_minor": 2
}