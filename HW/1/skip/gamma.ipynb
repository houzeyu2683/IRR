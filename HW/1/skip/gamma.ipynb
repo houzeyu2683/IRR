{
 "cells": [
  {
   "cell_type": "code",
   "execution_count": 23,
   "source": [
    "import os\n",
    "from xml.etree import ElementTree as et\n",
    "from collections import Counter\n",
    "import re"
   ],
   "outputs": [],
   "metadata": {}
  },
  {
   "cell_type": "code",
   "execution_count": null,
   "source": [
    "class document:\n",
    "\n",
    "    def __init__(self, path):\n",
    "\n",
    "        self.path = path\n",
    "        self.mode = None\n",
    "        self.mode = 'xml' if('xml' in path) else self.mode\n",
    "        self.mode = 'json' if('json' in path) else self.mode\n",
    "        return\n",
    "\n",
    "    def read(self):\n",
    "\n",
    "        if(self.mode=='xml'):\n",
    "\n",
    "            self.archive = et.parse(self.path)\n",
    "            pass\n",
    "\n",
    "        return\n",
    "\n",
    "    "
   ],
   "outputs": [],
   "metadata": {}
  },
  {
   "cell_type": "code",
   "execution_count": null,
   "source": [],
   "outputs": [],
   "metadata": {}
  },
  {
   "cell_type": "code",
   "execution_count": null,
   "source": [
    "path = 'hw1_data/test1.xml'\n",
    "source = et.parse(path)\n",
    "\n",
    "##  將每個 element 中的字串提取出來。\n",
    "character = \" \".join([e.text for e in source.iter()])\n",
    "\n",
    "\n",
    "\n"
   ],
   "outputs": [],
   "metadata": {}
  },
  {
   "cell_type": "code",
   "execution_count": 3,
   "source": [
    "folder = 'hw1_data'\n",
    "for i in os.listdir(folder):\n",
    "\n",
    "    path = os.path.join(folder, i)\n",
    "    if('json' in path):\n",
    "\n",
    "        pass\n",
    "\n",
    "    if('xml' in path):\n",
    "\n",
    "        break\n",
    "\n",
    "    pass"
   ],
   "outputs": [],
   "metadata": {}
  },
  {
   "cell_type": "code",
   "execution_count": 11,
   "source": [
    "archive = et.parse(path)\n",
    "character = \"\".join([e.text for e in archive.iter()])\n",
    "character"
   ],
   "outputs": [],
   "metadata": {}
  },
  {
   "cell_type": "code",
   "execution_count": null,
   "source": [],
   "outputs": [],
   "metadata": {}
  }
 ],
 "metadata": {
  "orig_nbformat": 4,
  "language_info": {
   "name": "python",
   "version": "3.7.11",
   "mimetype": "text/x-python",
   "codemirror_mode": {
    "name": "ipython",
    "version": 3
   },
   "pygments_lexer": "ipython3",
   "nbconvert_exporter": "python",
   "file_extension": ".py"
  },
  "kernelspec": {
   "name": "python3",
   "display_name": "Python 3.7.11 64-bit ('kaggle': conda)"
  },
  "interpreter": {
   "hash": "4cccc9253a97be6bfa179811742e359441dab23dea9b85717016d6b8ba8b672c"
  }
 },
 "nbformat": 4,
 "nbformat_minor": 2
}