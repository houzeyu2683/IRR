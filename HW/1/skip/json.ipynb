{
 "cells": [
  {
   "cell_type": "code",
   "execution_count": 3,
   "source": [
    "import json\n",
    "import re"
   ],
   "outputs": [],
   "metadata": {}
  },
  {
   "cell_type": "code",
   "execution_count": 7,
   "source": [
    "path = 'hw1_data/test4.json'\n",
    "with open(path, 'r') as paper:\n",
    "\n",
    "    data = json.load(paper)\n",
    "    pass\n"
   ],
   "outputs": [],
   "metadata": {}
  },
  {
   "cell_type": "code",
   "execution_count": 40,
   "source": [
    "##  轉成 string 類型\n",
    "string = []\n",
    "for i in data:\n",
    "\n",
    "    for k, v in i.items():\n",
    "\n",
    "        string += [v]        \n",
    "        pass\n",
    "\n",
    "    pass\n",
    "\n",
    "string = \" \".join(string)\n",
    "# string.encode(encoding=\"UTF-8\").decode(\"UTF-8\")"
   ],
   "outputs": [],
   "metadata": {}
  },
  {
   "cell_type": "code",
   "execution_count": 41,
   "source": [
    "##  關鍵字搜尋\n",
    "keyword = \"➡️\"\n",
    "exist = bool(re.search(keyword, string))\n",
    "number = len(re.findall(keyword, string))"
   ],
   "outputs": [
    {
     "output_type": "execute_result",
     "data": {
      "text/plain": [
       "2"
      ]
     },
     "metadata": {},
     "execution_count": 41
    }
   ],
   "metadata": {}
  },
  {
   "cell_type": "code",
   "execution_count": null,
   "source": [],
   "outputs": [],
   "metadata": {}
  }
 ],
 "metadata": {
  "orig_nbformat": 4,
  "language_info": {
   "name": "python",
   "version": "3.7.11",
   "mimetype": "text/x-python",
   "codemirror_mode": {
    "name": "ipython",
    "version": 3
   },
   "pygments_lexer": "ipython3",
   "nbconvert_exporter": "python",
   "file_extension": ".py"
  },
  "kernelspec": {
   "name": "python3",
   "display_name": "Python 3.7.11 64-bit ('kaggle': conda)"
  },
  "interpreter": {
   "hash": "4cccc9253a97be6bfa179811742e359441dab23dea9b85717016d6b8ba8b672c"
  }
 },
 "nbformat": 4,
 "nbformat_minor": 2
}