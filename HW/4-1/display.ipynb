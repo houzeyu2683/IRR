{
 "cells": [
  {
   "cell_type": "markdown",
   "metadata": {},
   "source": [
    "# 需求：給一些文章，能不能夠擷取文本資料中重要的句子？"
   ]
  },
  {
   "cell_type": "markdown",
   "metadata": {},
   "source": [
    "思路：\n",
    " - 從文本資料中，針對文章進行評分，找出高訊息量的文章。\n",
    " - 根據文章內容的句子進行評分，找出高訊息量的句子。"
   ]
  },
  {
   "cell_type": "code",
   "execution_count": 1,
   "metadata": {},
   "outputs": [],
   "source": [
    "import data"
   ]
  },
  {
   "cell_type": "code",
   "execution_count": 2,
   "metadata": {},
   "outputs": [
    {
     "data": {
      "text/html": [
       "<div>\n",
       "<style scoped>\n",
       "    .dataframe tbody tr th:only-of-type {\n",
       "        vertical-align: middle;\n",
       "    }\n",
       "\n",
       "    .dataframe tbody tr th {\n",
       "        vertical-align: top;\n",
       "    }\n",
       "\n",
       "    .dataframe thead th {\n",
       "        text-align: right;\n",
       "    }\n",
       "</style>\n",
       "<table border=\"1\" class=\"dataframe\">\n",
       "  <thead>\n",
       "    <tr style=\"text-align: right;\">\n",
       "      <th></th>\n",
       "      <th>abstract</th>\n",
       "      <th>keyword</th>\n",
       "    </tr>\n",
       "  </thead>\n",
       "  <tbody>\n",
       "    <tr>\n",
       "      <th>0</th>\n",
       "      <td>Preventing death from malignant melanoma is th...</td>\n",
       "      <td>melanoma</td>\n",
       "    </tr>\n",
       "    <tr>\n",
       "      <th>1</th>\n",
       "      <td>Introduction: Type 1 diabetes (T1DM) patients ...</td>\n",
       "      <td>chest</td>\n",
       "    </tr>\n",
       "    <tr>\n",
       "      <th>2</th>\n",
       "      <td>Aim: To determine the age-specific prevalence ...</td>\n",
       "      <td>hypertension</td>\n",
       "    </tr>\n",
       "    <tr>\n",
       "      <th>3</th>\n",
       "      <td>Objectives: Investigation whether in depth cha...</td>\n",
       "      <td>covid-19</td>\n",
       "    </tr>\n",
       "    <tr>\n",
       "      <th>4</th>\n",
       "      <td>Case report: A 6-year-old neutered male Britis...</td>\n",
       "      <td>chest</td>\n",
       "    </tr>\n",
       "    <tr>\n",
       "      <th>5</th>\n",
       "      <td>Approximately 100 million people suffer from f...</td>\n",
       "      <td>chest</td>\n",
       "    </tr>\n",
       "    <tr>\n",
       "      <th>6</th>\n",
       "      <td>A comprehensive repertoire of human microRNAs ...</td>\n",
       "      <td>melanoma</td>\n",
       "    </tr>\n",
       "    <tr>\n",
       "      <th>7</th>\n",
       "      <td>Background: SARS-CoV-2-infected subjects have ...</td>\n",
       "      <td>covid-19</td>\n",
       "    </tr>\n",
       "    <tr>\n",
       "      <th>8</th>\n",
       "      <td>Perioperative derangements of fluid and electr...</td>\n",
       "      <td>diabetes</td>\n",
       "    </tr>\n",
       "    <tr>\n",
       "      <th>9</th>\n",
       "      <td>A female patient, aged 44, with diabetes insip...</td>\n",
       "      <td>diabetes</td>\n",
       "    </tr>\n",
       "  </tbody>\n",
       "</table>\n",
       "</div>"
      ],
      "text/plain": [
       "                                            abstract       keyword\n",
       "0  Preventing death from malignant melanoma is th...      melanoma\n",
       "1  Introduction: Type 1 diabetes (T1DM) patients ...         chest\n",
       "2  Aim: To determine the age-specific prevalence ...  hypertension\n",
       "3  Objectives: Investigation whether in depth cha...      covid-19\n",
       "4  Case report: A 6-year-old neutered male Britis...         chest\n",
       "5  Approximately 100 million people suffer from f...         chest\n",
       "6  A comprehensive repertoire of human microRNAs ...      melanoma\n",
       "7  Background: SARS-CoV-2-infected subjects have ...      covid-19\n",
       "8  Perioperative derangements of fluid and electr...      diabetes\n",
       "9  A female patient, aged 44, with diabetes insip...      diabetes"
      ]
     },
     "execution_count": 2,
     "metadata": {},
     "output_type": "execute_result"
    }
   ],
   "source": [
    "tabulation = data.tabulation(path='resource/csv/pubmed-sample.csv')\n",
    "tabulation.read()\n",
    "tabulation.table[['abstract', 'keyword']].head(10)"
   ]
  },
  {
   "cell_type": "code",
   "execution_count": 3,
   "metadata": {},
   "outputs": [
    {
     "name": "stderr",
     "output_type": "stream",
     "text": []
    }
   ],
   "source": [
    "vocabulary = data.vocabulary(content=tabulation.table['abstract'], title=tabulation.table['title'])\n",
    "vocabulary.build()"
   ]
  },
  {
   "cell_type": "code",
   "execution_count": 4,
   "metadata": {},
   "outputs": [
    {
     "name": "stdout",
     "output_type": "stream",
     "text": [
      "use [self.matrix] to call the weight matrix\n",
      "term(row), document(column) matrix\n"
     ]
    },
    {
     "data": {
      "text/plain": [
       "array([[0.1 , 0.  , 0.  , ..., 0.  , 0.  , 0.  ],\n",
       "       [0.07, 0.  , 0.  , ..., 0.  , 0.  , 0.  ],\n",
       "       [0.08, 0.  , 0.  , ..., 0.  , 0.  , 0.  ],\n",
       "       ...,\n",
       "       [0.  , 0.  , 0.  , ..., 0.  , 0.07, 0.  ],\n",
       "       [0.  , 0.  , 0.  , ..., 0.  , 0.07, 0.  ],\n",
       "       [0.  , 0.  , 0.  , ..., 0.  , 0.  , 0.35]])"
      ]
     },
     "execution_count": 4,
     "metadata": {},
     "output_type": "execute_result"
    }
   ],
   "source": [
    "vocabulary.transform(mode='tf-idf')\n",
    "print(\"term(row), document(column) matrix\")\n",
    "vocabulary.matrix"
   ]
  },
  {
   "cell_type": "code",
   "execution_count": 5,
   "metadata": {},
   "outputs": [
    {
     "data": {
      "text/plain": [
       "(3582, 200)"
      ]
     },
     "execution_count": 5,
     "metadata": {},
     "output_type": "execute_result"
    }
   ],
   "source": [
    "vocabulary.matrix.shape"
   ]
  },
  {
   "cell_type": "markdown",
   "metadata": {},
   "source": [
    "根據 TF-IDF 矩陣，計算每篇文章的訊息量，擷取出訊息量最高的 5 篇文章。"
   ]
  },
  {
   "cell_type": "code",
   "execution_count": 6,
   "metadata": {},
   "outputs": [
    {
     "data": {
      "text/html": [
       "<div>\n",
       "<style scoped>\n",
       "    .dataframe tbody tr th:only-of-type {\n",
       "        vertical-align: middle;\n",
       "    }\n",
       "\n",
       "    .dataframe tbody tr th {\n",
       "        vertical-align: top;\n",
       "    }\n",
       "\n",
       "    .dataframe thead th {\n",
       "        text-align: right;\n",
       "    }\n",
       "</style>\n",
       "<table border=\"1\" class=\"dataframe\">\n",
       "  <thead>\n",
       "    <tr style=\"text-align: right;\">\n",
       "      <th></th>\n",
       "      <th>title</th>\n",
       "      <th>score</th>\n",
       "    </tr>\n",
       "  </thead>\n",
       "  <tbody>\n",
       "    <tr>\n",
       "      <th>0</th>\n",
       "      <td>Lung incarceration after anterior mediastinal ...</td>\n",
       "      <td>3.99</td>\n",
       "    </tr>\n",
       "    <tr>\n",
       "      <th>1</th>\n",
       "      <td>Functional valvular incompetence in decompensa...</td>\n",
       "      <td>3.94</td>\n",
       "    </tr>\n",
       "    <tr>\n",
       "      <th>2</th>\n",
       "      <td>Hydranencephaly complicated by central diabete...</td>\n",
       "      <td>3.91</td>\n",
       "    </tr>\n",
       "    <tr>\n",
       "      <th>3</th>\n",
       "      <td>Impact of Confounding Thoracic Tubes and Pleur...</td>\n",
       "      <td>3.81</td>\n",
       "    </tr>\n",
       "    <tr>\n",
       "      <th>4</th>\n",
       "      <td>Body composition measurement by air displaceme...</td>\n",
       "      <td>3.80</td>\n",
       "    </tr>\n",
       "  </tbody>\n",
       "</table>\n",
       "</div>"
      ],
      "text/plain": [
       "                                               title  score\n",
       "0  Lung incarceration after anterior mediastinal ...   3.99\n",
       "1  Functional valvular incompetence in decompensa...   3.94\n",
       "2  Hydranencephaly complicated by central diabete...   3.91\n",
       "3  Impact of Confounding Thoracic Tubes and Pleur...   3.81\n",
       "4  Body composition measurement by air displaceme...   3.80"
      ]
     },
     "execution_count": 6,
     "metadata": {},
     "output_type": "execute_result"
    }
   ],
   "source": [
    "k = 5\n",
    "importance = data.importance(vocabulary=vocabulary)\n",
    "document = importance.document(top=k)\n",
    "document"
   ]
  },
  {
   "cell_type": "markdown",
   "metadata": {},
   "source": [
    "---"
   ]
  },
  {
   "cell_type": "markdown",
   "metadata": {},
   "source": [
    "針對第 k 篇文章，擷取出分數最高的 s 個句子。"
   ]
  },
  {
   "cell_type": "code",
   "execution_count": 8,
   "metadata": {},
   "outputs": [
    {
     "name": "stdout",
     "output_type": "stream",
     "text": [
      "\u001b[44mFunctional valvular incompetence in decompensated heart failure: noninvasive monitoring and response to medical management\u001b[0m\n",
      "\u001b[33mObjective: We hypothesized that functional mitral and tricuspid valvular incompetence (MR and TR, respectively) are reversible causes of reduced cardiac output in decompensated heart failure (DF) that accompanies systolic dysfunction in ischemic or nonischemic cardiomyopathy.\u001b[0m\n",
      "--------------------------------------------------\n"
     ]
    }
   ],
   "source": [
    "k = 1\n",
    "s = 2\n",
    "title = document['title'][k]\n",
    "content = tabulation.table.loc[tabulation.table['title']==title]['abstract'].item()\n",
    "sentence, _ = importance.sentence(title=title, content=content, top=s)\n",
    "data.mark(title, content, sentence)"
   ]
  },
  {
   "cell_type": "markdown",
   "metadata": {},
   "source": [
    "---"
   ]
  },
  {
   "cell_type": "markdown",
   "metadata": {},
   "source": []
  },
  {
   "cell_type": "markdown",
   "metadata": {},
   "source": []
  },
  {
   "cell_type": "markdown",
   "metadata": {},
   "source": [
    "挑選第二篇來分析，擷取出分數最高的 s 個句子。"
   ]
  },
  {
   "cell_type": "code",
   "execution_count": 6,
   "metadata": {},
   "outputs": [
    {
     "name": "stdout",
     "output_type": "stream",
     "text": [
      "\u001b[44mNeuropeptidomic analysis of the brain and thoracic ganglion from the Jonah crab, Cancer borealis\u001b[0m\n",
      "Mass spectrometric methods were applied to determine the peptidome of the brain and thoracic ganglion of the Jonah crab (Cancer borealis). Fractions obtained by high performance liquid chromatography were characterized using MALDI-TOF MS and ESI-Q-TOF MS/MS. \u001b[33mIn total, 28 peptides were identified within the molecular mass range 750-3000Da.\u001b[0m \u001b[33mComparison of the molecular masses obtained with MALDI-TOF MS with the calculated molecular masses of known crustacean peptides revealed the presence of at least nine allatostatins, three orcokinin precursor derived peptides, namely FDAFTTGFGHS, [Ala(13)]-orcokinin, and [Val(13)]-orcokinin, and two kinins, a tachykinin-related peptide and four FMRFamide-related peptides.\u001b[0m \u001b[33mEight other peptides were de novo sequenced by collision induced dissociation on the Q-TOF system and yielded AYNRSFLRFamide, PELDHVFLRFamide or EPLDHVFLRFamide, APQRNFLRFamide, LNPFLRFamide, DVRTPALRLRFamide, and LRNLRFamide, which belong to the FMRFamide related peptide family, as well as NFDEIDRSGFA and NFDEIDRSSFGFV, which display high sequence similarity to peptide sequences within the orcokinin precursor of Orconectes limosus.\u001b[0m Our paper is the first (neuro)peptidomic analysis of the crustacean nervous system.\n",
      "--------------------------------------------------\n"
     ]
    }
   ],
   "source": [
    "k = 1\n",
    "title = document['title'][k]\n",
    "content = tabulation.table.loc[tabulation.table['title']==title]['abstract'].item()\n",
    "sentence, _ = importance.sentence(title=title, content=content, top=3)\n",
    "data.mark(title, content, sentence)"
   ]
  },
  {
   "cell_type": "markdown",
   "metadata": {},
   "source": [
    "挑選第三篇來分析，擷取出分數最高的 3 個句子。"
   ]
  },
  {
   "cell_type": "code",
   "execution_count": 7,
   "metadata": {},
   "outputs": [
    {
     "name": "stdout",
     "output_type": "stream",
     "text": [
      "\u001b[44m[Resection and Reconstruction of the Diaphragm and the Pericardium in Extrapleural Pneumonectomy]\u001b[0m\n",
      "The diaphragm dissection should be started from anterior, because the portion is just under the thoracotomy incision. The diaphragmatic muscle was cut by an electric knife along the line of 1 to 2 cm from the chest wall from anterior and lateral to posterior. The diaphragm including the tendon center is dissected from the peritoneum. The peritoneum should be preserved. If the peritoneum is opened, it should be repaired by sutures. The pericardium is opened at the apex. The pericardium incision is extended from the apex to cranial side. And then, it is cut from the apex to posterior with the diaphragm. And next, the incision of the cranial side edge is extended to posterior. The lower pulmonary vein, upper pulmonary vein, and pulmonary artery are exposed. They are encircled and divided in the pericardium by autosutures. A Goretex sheet with 1 mm thickness is used to reconstruct the diaphragm. \u001b[33mNine sutures were placed in advance for the Goretex, and pulled out from the chest cavity through upper and lower sides of the 10th or 9th rib.\u001b[0m The sutures were tied outside the rib cage. \u001b[33mFor mediastinal side, the Goretex was sutured to the residual diaphragm.\u001b[0m \u001b[33mA Goretex sheet with 0.1 mm thickness is used to reconstruct the pericardium by interrupted sutures.\u001b[0m Because the contralateral lung is overinflated, the reconstruction should not be tight. Slits for the Goretex are made to prevent regional tamponade.\n",
      "--------------------------------------------------\n"
     ]
    }
   ],
   "source": [
    "k = 2\n",
    "title = document['title'][k]\n",
    "content = tabulation.table.loc[tabulation.table['title']==title]['abstract'].item()\n",
    "sentence, _ = importance.sentence(title=title, content=content, top=3)\n",
    "data.mark(title, content, sentence)"
   ]
  },
  {
   "cell_type": "markdown",
   "metadata": {},
   "source": [
    "挑選第四篇來分析，擷取出分數最高的 3 個句子。"
   ]
  },
  {
   "cell_type": "code",
   "execution_count": 8,
   "metadata": {},
   "outputs": [
    {
     "name": "stdout",
     "output_type": "stream",
     "text": [
      "\u001b[44mMagnocellular hypothalamic projections to the lower brain stem and spinal cord of the rat. Immunocytochemical evidence for predominance of the oxytocin-neurophysin system compared to the vasopressin-neurophysin system\u001b[0m\n",
      "The paraventricular nucleus of the rat hypothalamus has been shown to project to the medulla and spinal cord. The proportion of oxytocin-neurophysin (OTNP) axons to vasopressin-neurophysin (VPNP) axons in these structures is unknown. A major difficulty in resolving this problem in previous immunocytochemical studies was the lack of a specific antiserum to each rat neurophysin. \u001b[33mIn this study two approaches have been used: (1) comparison of immunostaining for neurophysin in normal versus homozygous Brattleboro rats with diabetes insipidus (HODI) which lack VPNP, and (2) application of an antiserum to both rat neurophysins absorbed with HODI rat hypothalamic-pituitary extracts which contain only OTNP.\u001b[0m The latter would result in an antiserum specific for VPNP. \u001b[33mOur results indicate that the axons which constitute the caudal projections from the paraventricular nucleus are predominately oxytocinergic, the vasopressinergic innervation being limited to the nucleus tractus solitarius, the dorsal motor nucleus of vagus, and the substantia gelatinosa.\u001b[0m A similar number of reactive fibers were seen in the medulla and spinal cord of normal and HODI rats. No positive perikarya were observed caudal to the hypothalamus. \u001b[33mFibers in the medulla appeared to terminate in the nucleus of the solitary tract and in the dorsal motor nucleus of the vagus nerve.\u001b[0m Positive fibers throughout the cord were present in the substantia gelatinosa and in the intermediolateral grey. The possible role(s) of these projections in integrating autonomic functions and afferent information with neuroendocrine regulation is discussed.\n",
      "--------------------------------------------------\n"
     ]
    }
   ],
   "source": [
    "k = 3\n",
    "title = document['title'][k]\n",
    "content = tabulation.table.loc[tabulation.table['title']==title]['abstract'].item()\n",
    "sentence, _ = importance.sentence(title=title, content=content, top=3)\n",
    "data.mark(title, content, sentence)"
   ]
  },
  {
   "cell_type": "markdown",
   "metadata": {},
   "source": [
    "挑選第五篇來分析，擷取出分數最高的 3 個句子。"
   ]
  },
  {
   "cell_type": "code",
   "execution_count": 9,
   "metadata": {},
   "outputs": [
    {
     "name": "stdout",
     "output_type": "stream",
     "text": [
      "\u001b[44mIntra-thoracic fibrous tissue induction by polylactic acid and epsilon-caprolactone copolymer cubes, with or without slow release of basic fibroblast growth factor\u001b[0m\n",
      "\u001b[33mObjective: We investigated whether implantation of polylactic acid and epsilon-caprolactone copolymer (PLAC) cubes with or without basic fibroblast growth factor (b-FGF) released slowly from gelatin microspheres was able to induce fibrous tissue in the dead space remaining after pneumonectomy in the thoracic cavity.\u001b[0m\n",
      "--------------------------------------------------\n"
     ]
    }
   ],
   "source": [
    "k = 4\n",
    "title = document['title'][k]\n",
    "content = tabulation.table.loc[tabulation.table['title']==title]['abstract'].item()\n",
    "sentence, _ = importance.sentence(title=title, content=content, top=3)\n",
    "data.mark(title, content, sentence)"
   ]
  },
  {
   "cell_type": "code",
   "execution_count": null,
   "metadata": {},
   "outputs": [],
   "source": []
  }
 ],
 "metadata": {
  "interpreter": {
   "hash": "52c2d9577c3ae93f164c9f95b2860fd320105e868bfaa6ef38214209ec54a631"
  },
  "kernelspec": {
   "display_name": "Python 3.7.11 64-bit ('DL': conda)",
   "language": "python",
   "name": "python3"
  },
  "language_info": {
   "codemirror_mode": {
    "name": "ipython",
    "version": 3
   },
   "file_extension": ".py",
   "mimetype": "text/x-python",
   "name": "python",
   "nbconvert_exporter": "python",
   "pygments_lexer": "ipython3",
   "version": "3.7.11"
  },
  "orig_nbformat": 4
 },
 "nbformat": 4,
 "nbformat_minor": 2
}
