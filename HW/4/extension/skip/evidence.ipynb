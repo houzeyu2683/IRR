{
 "cells": [
  {
   "cell_type": "code",
   "execution_count": 1,
   "metadata": {},
   "outputs": [],
   "source": [
    "import data\n",
    "import extension\n",
    "import re"
   ]
  },
  {
   "cell_type": "code",
   "execution_count": 2,
   "metadata": {},
   "outputs": [
    {
     "name": "stdout",
     "output_type": "stream",
     "text": [
      "(498, 6)\n",
      "melanoma        108\n",
      "chest           107\n",
      "diabetes         98\n",
      "hypertension     97\n",
      "covid-19         88\n",
      "Name: keyword, dtype: int64\n"
     ]
    }
   ],
   "source": [
    "tabulation = data.tabulation(path='resource/csv/data.csv')\n",
    "tabulation.read()\n",
    "print(tabulation.data.shape)\n",
    "print(tabulation.data['keyword'].value_counts())"
   ]
  },
  {
   "cell_type": "code",
   "execution_count": 3,
   "metadata": {},
   "outputs": [
    {
     "name": "stderr",
     "output_type": "stream",
     "text": [
      "100%|██████████| 498/498 [00:01<00:00, 336.55it/s]\n"
     ]
    }
   ],
   "source": [
    "vocabulary = data.vocabulary()\n",
    "vocabulary.build(sentence=tabulation.data['abstract'], title=tabulation.data['title'])"
   ]
  },
  {
   "cell_type": "code",
   "execution_count": null,
   "metadata": {},
   "outputs": [],
   "source": [
    "##  Term document matrix.\n",
    "weight = extension.weight(matrix=vocabulary.matrix)\n",
    "matrix = weight.transform(what='tf')"
   ]
  },
  {
   "cell_type": "code",
   "execution_count": null,
   "metadata": {},
   "outputs": [],
   "source": [
    "comparison = matrix.loc[(matrix.index==pair[0])|(matrix.index==pair[1])].sum(axis=0)\n",
    "title = tabulation.data.loc[tabulation.data['title']==comparison.idxmax()]['title'].item()\n",
    "text = tabulation.data.loc[tabulation.data['title']==comparison.idxmax()]['abstract'].item()\n",
    "print('title : {}'.format(title))\n",
    "print('-'*10, 'abstract', '-'*10, '\\n', text, '\\n')\n",
    "print('-'*10, 'abstract (tokenize + stemming + remove stopword)', '-'*10, '\\n', [re.sub(i, \"**\"+i+\"**\", i) if((pair[0] in i)or(pair[1] in i)) else i  for i in vocabulary.tokenize(text)])"
   ]
  }
 ],
 "metadata": {
  "interpreter": {
   "hash": "52c2d9577c3ae93f164c9f95b2860fd320105e868bfaa6ef38214209ec54a631"
  },
  "kernelspec": {
   "display_name": "Python 3.7.11 64-bit ('DL': conda)",
   "language": "python",
   "name": "python3"
  },
  "language_info": {
   "codemirror_mode": {
    "name": "ipython",
    "version": 3
   },
   "file_extension": ".py",
   "mimetype": "text/x-python",
   "name": "python",
   "nbconvert_exporter": "python",
   "pygments_lexer": "ipython3",
   "version": "3.7.11"
  },
  "orig_nbformat": 4
 },
 "nbformat": 4,
 "nbformat_minor": 2
}
