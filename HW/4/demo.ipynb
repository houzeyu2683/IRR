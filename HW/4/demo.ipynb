{
 "cells": [
  {
   "cell_type": "code",
   "execution_count": 13,
   "metadata": {},
   "outputs": [],
   "source": [
    "import data\n",
    "import extension\n",
    "import re"
   ]
  },
  {
   "cell_type": "code",
   "execution_count": 14,
   "metadata": {},
   "outputs": [
    {
     "name": "stdout",
     "output_type": "stream",
     "text": [
      "(498, 6)\n",
      "melanoma        108\n",
      "chest           107\n",
      "diabetes         98\n",
      "hypertension     97\n",
      "covid-19         88\n",
      "Name: keyword, dtype: int64\n"
     ]
    }
   ],
   "source": [
    "tabulation = data.tabulation(path='resource/csv/data.csv')\n",
    "tabulation.read()\n",
    "print(tabulation.data.shape)\n",
    "print(tabulation.data['keyword'].value_counts())"
   ]
  },
  {
   "cell_type": "code",
   "execution_count": 15,
   "metadata": {},
   "outputs": [
    {
     "name": "stderr",
     "output_type": "stream",
     "text": [
      "100%|██████████| 498/498 [00:01<00:00, 362.80it/s]\n"
     ]
    }
   ],
   "source": [
    "vocabulary = data.vocabulary()\n",
    "vocabulary.build(sentence=tabulation.data['abstract'], title=tabulation.data['title'])"
   ]
  },
  {
   "cell_type": "code",
   "execution_count": 16,
   "metadata": {},
   "outputs": [
    {
     "name": "stdout",
     "output_type": "stream",
     "text": [
      "loss after epoch 0: 1439338.625\n",
      "loss after epoch 1: 2525426.75\n",
      "loss after epoch 2: 3534746.25\n",
      "loss after epoch 3: 4455019.5\n",
      "loss after epoch 4: 5252533.0\n",
      "loss after epoch 5: 6033547.5\n",
      "loss after epoch 6: 6801783.5\n",
      "loss after epoch 7: 7553366.5\n",
      "loss after epoch 8: 8290129.0\n",
      "loss after epoch 9: 8921958.0\n",
      "loss after epoch 10: 9531420.0\n",
      "loss after epoch 11: 10133417.0\n",
      "loss after epoch 12: 10730749.0\n",
      "loss after epoch 13: 11321132.0\n",
      "loss after epoch 14: 11902631.0\n",
      "loss after epoch 15: 12477099.0\n",
      "loss after epoch 16: 13047792.0\n",
      "loss after epoch 17: 13618377.0\n",
      "loss after epoch 18: 14187149.0\n",
      "loss after epoch 19: 14758481.0\n"
     ]
    }
   ],
   "source": [
    "machine = extension.machine(vocabulary.word, vocabulary=vocabulary)\n",
    "machine.build(what='model', by='SG', window=10, dimension=150, epoch=20)\n",
    "machine.collect(title=[\"covid-19\", \"diabetes\", \"melanoma\", \"hypertension\", 'chest'], top=30)\n",
    "machine.reduce(method=\"MDS\", dimension=2)"
   ]
  },
  {
   "cell_type": "code",
   "execution_count": 17,
   "metadata": {},
   "outputs": [
    {
     "data": {
      "application/vnd.plotly.v1+json": {
       "config": {
        "plotlyServerURL": "https://plot.ly"
       },
       "data": [
        {
         "hovertemplate": "type=fish<br>x=%{x}<br>y=%{y}<br>word=%{text}<extra></extra>",
         "legendgroup": "fish",
         "marker": {
          "color": "#636efa",
          "size": 5,
          "symbol": "circle"
         },
         "mode": "markers+text",
         "name": "fish",
         "orientation": "v",
         "showlegend": true,
         "text": [
          "aetiolog",
          "attach",
          "meta-analysi",
          "betacoronaviru",
          "exud",
          "infecti",
          "pneumonia",
          "cereu",
          "suction",
          "hyperthyroid",
          "hypoosmolar",
          "gh",
          "alm",
          "mild",
          "ex-hypertens",
          "pandem",
          "dextrocardia",
          "delin",
          "two-year",
          "pyothorax",
          "59",
          "three-bottl",
          "hypertertens",
          "ambulatori",
          "sars-cov-2-associ",
          "tuscani",
          "cerebellum",
          "psychogen",
          "radial",
          "non-pharmacolog",
          "ocular",
          "obes",
          "ssm",
          "johnson",
          "daytim",
          "astrazeneca",
          "mid-1980",
          "non-infecti",
          "fifty-f",
          "indonesia",
          "adenocarcinoma",
          "hydrocephalu",
          "disease-2019",
          "metastasi",
          "nephrogen",
          "ap",
          "malign",
          "outbreak",
          "naevi",
          "23rd",
          "coma",
          "045",
          "ventriculo-periton",
          "clinicopatholog",
          "normotens",
          "polydypsia",
          "confront",
          "air-fil",
          "so-cal",
          "rh",
          "limb",
          "unsatisfactori",
          "hyposomatotrop",
          "declar",
          "nystagmu",
          "combat",
          "water-s",
          "gdi",
          "adiurekrin",
          "blur",
          "n80",
          "2019",
          "healthcar",
          "endocrinopathi",
          "occupi",
          "matrix",
          "41-year-old",
          "organis",
          "childhood-onset",
          "radiograph",
          "coronaviru",
          "bacillu",
          "microalbuminuria",
          "625",
          "mellitu",
          "neurosensori",
          "metastas",
          "cytolog",
          "fewer",
          "empyema",
          "lean",
          "exclud",
          "leukaemia",
          "outflow",
          "circular",
          "anteroposterior",
          "transform",
          "volar",
          "nowaday",
          "uveal",
          "uncl",
          "lithium-induc",
          "outstrip",
          "underdevelop",
          "cnn",
          "ward",
          "thoracentesi",
          "melanocytoma",
          "scotland",
          "hyposecret",
          "acral",
          "late-1990",
          "postpneumon",
          "tube",
          "hypothyroid",
          "non-dipp",
          "night-tim",
          "chloropropamid",
          "vaccin",
          "pleurisi",
          "s100",
          "ejacul",
          "hyperosmolar",
          "casesa",
          "particl",
          "come",
          "dispar",
          "2003",
          "insulin-depend",
          "hutchinson",
          "15-25",
          "intend",
          "unchang",
          "intermedi",
          "insipidu",
          "white-coat",
          "borderlin",
          "network",
          "black",
          "histogenet",
          "superfici",
          "metastat",
          "hyperadrenocortic",
          "bp-lower",
          "freckl",
          "eastern",
          "herald",
          "sars-cov-1",
          "wall",
          "deaf-mut"
         ],
         "textfont": {
          "size": 10
         },
         "textposition": "top center",
         "type": "scatter",
         "x": [
          0.08496643264897849,
          -1.2953482444002296,
          -0.2672330798849961,
          -0.8468194596091783,
          -0.8081843674779765,
          -0.7317419187579166,
          -1.5160758145463418,
          -0.9823780901982366,
          -1.8174857935913171,
          0.6397331037399404,
          0.607375092456341,
          0.6492812628373352,
          -0.5723333659348019,
          2.9616861480274537,
          1.3722462471267785,
          -1.8606621213810535,
          -1.6277499692163073,
          -0.22614280646082544,
          0.7986044609160033,
          -0.9825981754152983,
          1.6850440817890617,
          -1.2795106049245313,
          1.1004100073837393,
          3.630556515438093,
          -0.5474843799572953,
          -0.010669256156601341,
          -0.7111398956608435,
          1.229131243129467,
          -0.7926341454166412,
          1.7367330282222189,
          -1.0463765853818283,
          3.3289830772471194,
          -0.18408971415699898,
          -0.5183506781363085,
          1.9387286824867644,
          -0.49057268849305313,
          0.07443896658636305,
          -0.6796613554038924,
          0.94104814785387,
          -0.5208571190461518,
          0.04395743194183056,
          -1.9647030979611295,
          -1.1874767696820598,
          -1.4764167290703358,
          1.9128882796567066,
          -0.7339657940971437,
          -1.2778910598495363,
          -1.1441600202999243,
          0.5512128529422134,
          -0.3801035574064922,
          0.5969163498026245,
          1.0841006642901254,
          -0.8490532435640724,
          0.13162172756423407,
          3.4728323830936767,
          1.10572672179045,
          -0.26133062718833916,
          -1.0758109926253892,
          1.184593443139019,
          1.716875156013083,
          -0.7332344336161087,
          -0.2359906992972609,
          0.7337337373325626,
          -0.6291511707756589,
          0.4950657179280625,
          -1.5489098839727156,
          -1.120871660955391,
          1.3351376471121854,
          0.8278064774981099,
          1.0200336866099877,
          0.6999898795906044,
          -1.3802699245331134,
          -1.1183126704328705,
          0.7350083390672549,
          -1.8082910901785931,
          -0.5242519379566091,
          0.5327801702237498,
          -0.9119310418309541,
          1.0675633468728518,
          -2.2848621137399787,
          -1.9385719248109676,
          -0.9632489468373499,
          2.3747794212752864,
          1.0598153113729791,
          2.8856955562576645,
          1.0051719220025277,
          -0.2547502024614634,
          -0.35074152472784037,
          0.5030326903101805,
          -2.1865209219095947,
          2.070752075528142,
          0.5847705508106265,
          0.9461747106405651,
          0.5674861054037089,
          -0.985982324887463,
          -0.866815149432314,
          -0.16620614061758895,
          -0.11904351922813623,
          -1.3182882194281942,
          -0.7063147945256726,
          0.7330557008646198,
          1.0478995277037217,
          -0.7584227356328699,
          -1.2495327960547418,
          -0.5886733425932208,
          -0.8942773476768353,
          -1.5341255945360441,
          -0.4878618813324285,
          0.2119873478688554,
          0.7337889750415164,
          0.012809431232119244,
          0.05479812600625186,
          -1.170193598784819,
          -3.713315898695558,
          1.1984218453469389,
          0.7119895982242166,
          0.7260219972680542,
          0.8259348754885896,
          -3.4810033170892063,
          -0.8789302197517966,
          -0.15488776177656016,
          0.992624779339684,
          0.5356474652168745,
          -0.3889282370489068,
          -0.7330081440951405,
          0.37643383546451026,
          -0.25992019338169103,
          -0.7217786475098168,
          1.7245558387755262,
          -0.277644139264785,
          0.8447357379206645,
          -0.28560874814661663,
          -0.5441679443670863,
          1.4244276056661822,
          2.5110328875572265,
          2.209638337766895,
          2.9816315191731197,
          -0.56778293668951,
          2.1581955554845735,
          -0.2963371919425209,
          -1.796887014712045,
          -0.24722733127038188,
          0.6484843274984905,
          0.9274727475340275,
          -0.3292366197352648,
          0.4881386053836241,
          -0.7090259728275019,
          -0.8716312957844584,
          -2.8671806821306465,
          0.7207662270580392
         ],
         "xaxis": "x",
         "y": [
          -0.6917337864536619,
          -0.2937577407355888,
          0.9401904537569021,
          1.4316270060099607,
          -0.031168164201888914,
          1.8628489675287838,
          1.8703844956098479,
          -0.07554566242491331,
          -0.30442497552080794,
          0.6168881518116509,
          0.6922878906840753,
          0.49890137059394585,
          -1.3095755187974802,
          -0.43303987508251934,
          -0.6799338635349222,
          2.6715483414310794,
          -0.06631984922370988,
          -0.7227214139074138,
          -0.5157747559938017,
          -0.1261140789074174,
          -0.9385160126824444,
          -0.24102353072135932,
          -0.5893166244333105,
          -0.5478333480039932,
          0.8861022907470941,
          -0.6360944908795386,
          -0.1136766451686236,
          0.8355982510689255,
          -1.55806342818401,
          -0.7803637103391331,
          -2.134256144536848,
          0.1562167326745581,
          -0.49395668690910166,
          1.214725469641073,
          -1.3162371651145421,
          0.755086142959238,
          -0.9410971688973806,
          1.3496563194369149,
          -0.16071196526909687,
          1.9867959339508663,
          -1.2377693978101576,
          0.3854963048693413,
          1.5940040727398017,
          -1.8246345177831296,
          2.4929116197825594,
          -0.4450908616483143,
          -3.1733457758201338,
          2.38379729011793,
          -2.616461035219403,
          0.6343895925827093,
          0.7919407144494295,
          -1.0113878694668832,
          0.095312027859379,
          -1.5287504247459303,
          -2.215841522641327,
          1.3179323839160924,
          0.5127713401558867,
          -0.33960564389523573,
          -0.08441106419645814,
          -0.5047216803856681,
          0.04629383927811047,
          -0.9076714035611285,
          0.5279428658959182,
          1.1269585473887198,
          0.7354086075008658,
          1.5646654289959274,
          -0.21861183967724007,
          1.4666440370524827,
          0.8423856500935913,
          -0.1848189911648511,
          -0.5051604182948791,
          3.1956386341113183,
          1.6405771841297583,
          1.1011366476787214,
          -0.6822787868738119,
          -1.18510826207955,
          0.6406358588763338,
          0.8261968288585693,
          1.6951430900753026,
          -0.7624390295659415,
          2.9399502783184737,
          -0.09284252276659541,
          -1.6172315381447124,
          -0.47598740743932655,
          2.051915808383254,
          1.3606452382848033,
          -4.0416873353268175,
          -1.3972148963094555,
          -0.3538779106547714,
          -0.016080601576671502,
          -1.1394887791872859,
          1.0365824924780795,
          1.6918403956174606,
          0.8719806075329822,
          -0.3981661219133405,
          -0.5297588197209482,
          -1.3083870399528161,
          -1.4622350032106515,
          -0.2702871034217158,
          -2.0538634716593167,
          0.8115685765875481,
          0.7577400147701314,
          0.6428259276958915,
          0.301661196018316,
          -0.11961894166348964,
          1.2649995303345725,
          -0.037694528519592485,
          -1.7252023161997896,
          -1.7706013781764507,
          0.6890274941565584,
          -2.7131929898156404,
          -0.9817332521459786,
          -0.1541703000755147,
          -0.25840277983551835,
          1.1999459217624444,
          -0.4274691484909238,
          -0.4057034016762193,
          0.7713959537051905,
          2.37029228697977,
          -0.01390656888287963,
          -1.1461816992773273,
          -0.22717760500074421,
          0.7014398982535874,
          0.6777963255336799,
          1.1345401668531223,
          0.649426299471142,
          0.5870308329557667,
          0.9037551310889103,
          1.46525381037241,
          -1.6436103207400772,
          -0.6547536071975194,
          0.48503708327005757,
          -0.026567045152348753,
          -0.12807201643911248,
          2.9014852042407764,
          -0.7434478127590699,
          -1.6638399394514254,
          -0.0666549513320863,
          -0.2647114911781522,
          -1.1488982959843093,
          -2.7032967842917213,
          -3.484984979406503,
          0.4234871600554404,
          -0.3611513232970746,
          -1.7567882240825046,
          -0.11875435132548592,
          0.9414293028880741,
          1.028533679554514,
          -0.8017771529150135,
          0.8169203026277402
         ],
         "yaxis": "y"
        },
        {
         "hovertemplate": "type=bait<br>x=%{x}<br>y=%{y}<br>word=%{text}<extra></extra>",
         "legendgroup": "bait",
         "marker": {
          "color": "#EF553B",
          "size": 5,
          "symbol": "circle"
         },
         "mode": "markers+text",
         "name": "bait",
         "orientation": "v",
         "showlegend": true,
         "text": [
          "melanoma",
          "covid-19",
          "chest",
          "diabet",
          "hypertens"
         ],
         "textfont": {
          "size": 10
         },
         "textposition": "top center",
         "type": "scatter",
         "x": [
          -0.7718480605685014,
          -1.0649662137514604,
          -3.4995364864314897,
          2.2465792708232732,
          2.891951151422659
         ],
         "xaxis": "x",
         "y": [
          -3.2054000541314136,
          3.7799030947025063,
          -0.48658350083513485,
          2.750413584260195,
          -1.8690435407500778
         ],
         "yaxis": "y"
        }
       ],
       "layout": {
        "height": 750,
        "legend": {
         "title": {
          "text": "type"
         },
         "tracegroupgap": 0
        },
        "margin": {
         "t": 60
        },
        "template": {
         "data": {
          "bar": [
           {
            "error_x": {
             "color": "#2a3f5f"
            },
            "error_y": {
             "color": "#2a3f5f"
            },
            "marker": {
             "line": {
              "color": "#E5ECF6",
              "width": 0.5
             },
             "pattern": {
              "fillmode": "overlay",
              "size": 10,
              "solidity": 0.2
             }
            },
            "type": "bar"
           }
          ],
          "barpolar": [
           {
            "marker": {
             "line": {
              "color": "#E5ECF6",
              "width": 0.5
             },
             "pattern": {
              "fillmode": "overlay",
              "size": 10,
              "solidity": 0.2
             }
            },
            "type": "barpolar"
           }
          ],
          "carpet": [
           {
            "aaxis": {
             "endlinecolor": "#2a3f5f",
             "gridcolor": "white",
             "linecolor": "white",
             "minorgridcolor": "white",
             "startlinecolor": "#2a3f5f"
            },
            "baxis": {
             "endlinecolor": "#2a3f5f",
             "gridcolor": "white",
             "linecolor": "white",
             "minorgridcolor": "white",
             "startlinecolor": "#2a3f5f"
            },
            "type": "carpet"
           }
          ],
          "choropleth": [
           {
            "colorbar": {
             "outlinewidth": 0,
             "ticks": ""
            },
            "type": "choropleth"
           }
          ],
          "contour": [
           {
            "colorbar": {
             "outlinewidth": 0,
             "ticks": ""
            },
            "colorscale": [
             [
              0,
              "#0d0887"
             ],
             [
              0.1111111111111111,
              "#46039f"
             ],
             [
              0.2222222222222222,
              "#7201a8"
             ],
             [
              0.3333333333333333,
              "#9c179e"
             ],
             [
              0.4444444444444444,
              "#bd3786"
             ],
             [
              0.5555555555555556,
              "#d8576b"
             ],
             [
              0.6666666666666666,
              "#ed7953"
             ],
             [
              0.7777777777777778,
              "#fb9f3a"
             ],
             [
              0.8888888888888888,
              "#fdca26"
             ],
             [
              1,
              "#f0f921"
             ]
            ],
            "type": "contour"
           }
          ],
          "contourcarpet": [
           {
            "colorbar": {
             "outlinewidth": 0,
             "ticks": ""
            },
            "type": "contourcarpet"
           }
          ],
          "heatmap": [
           {
            "colorbar": {
             "outlinewidth": 0,
             "ticks": ""
            },
            "colorscale": [
             [
              0,
              "#0d0887"
             ],
             [
              0.1111111111111111,
              "#46039f"
             ],
             [
              0.2222222222222222,
              "#7201a8"
             ],
             [
              0.3333333333333333,
              "#9c179e"
             ],
             [
              0.4444444444444444,
              "#bd3786"
             ],
             [
              0.5555555555555556,
              "#d8576b"
             ],
             [
              0.6666666666666666,
              "#ed7953"
             ],
             [
              0.7777777777777778,
              "#fb9f3a"
             ],
             [
              0.8888888888888888,
              "#fdca26"
             ],
             [
              1,
              "#f0f921"
             ]
            ],
            "type": "heatmap"
           }
          ],
          "heatmapgl": [
           {
            "colorbar": {
             "outlinewidth": 0,
             "ticks": ""
            },
            "colorscale": [
             [
              0,
              "#0d0887"
             ],
             [
              0.1111111111111111,
              "#46039f"
             ],
             [
              0.2222222222222222,
              "#7201a8"
             ],
             [
              0.3333333333333333,
              "#9c179e"
             ],
             [
              0.4444444444444444,
              "#bd3786"
             ],
             [
              0.5555555555555556,
              "#d8576b"
             ],
             [
              0.6666666666666666,
              "#ed7953"
             ],
             [
              0.7777777777777778,
              "#fb9f3a"
             ],
             [
              0.8888888888888888,
              "#fdca26"
             ],
             [
              1,
              "#f0f921"
             ]
            ],
            "type": "heatmapgl"
           }
          ],
          "histogram": [
           {
            "marker": {
             "pattern": {
              "fillmode": "overlay",
              "size": 10,
              "solidity": 0.2
             }
            },
            "type": "histogram"
           }
          ],
          "histogram2d": [
           {
            "colorbar": {
             "outlinewidth": 0,
             "ticks": ""
            },
            "colorscale": [
             [
              0,
              "#0d0887"
             ],
             [
              0.1111111111111111,
              "#46039f"
             ],
             [
              0.2222222222222222,
              "#7201a8"
             ],
             [
              0.3333333333333333,
              "#9c179e"
             ],
             [
              0.4444444444444444,
              "#bd3786"
             ],
             [
              0.5555555555555556,
              "#d8576b"
             ],
             [
              0.6666666666666666,
              "#ed7953"
             ],
             [
              0.7777777777777778,
              "#fb9f3a"
             ],
             [
              0.8888888888888888,
              "#fdca26"
             ],
             [
              1,
              "#f0f921"
             ]
            ],
            "type": "histogram2d"
           }
          ],
          "histogram2dcontour": [
           {
            "colorbar": {
             "outlinewidth": 0,
             "ticks": ""
            },
            "colorscale": [
             [
              0,
              "#0d0887"
             ],
             [
              0.1111111111111111,
              "#46039f"
             ],
             [
              0.2222222222222222,
              "#7201a8"
             ],
             [
              0.3333333333333333,
              "#9c179e"
             ],
             [
              0.4444444444444444,
              "#bd3786"
             ],
             [
              0.5555555555555556,
              "#d8576b"
             ],
             [
              0.6666666666666666,
              "#ed7953"
             ],
             [
              0.7777777777777778,
              "#fb9f3a"
             ],
             [
              0.8888888888888888,
              "#fdca26"
             ],
             [
              1,
              "#f0f921"
             ]
            ],
            "type": "histogram2dcontour"
           }
          ],
          "mesh3d": [
           {
            "colorbar": {
             "outlinewidth": 0,
             "ticks": ""
            },
            "type": "mesh3d"
           }
          ],
          "parcoords": [
           {
            "line": {
             "colorbar": {
              "outlinewidth": 0,
              "ticks": ""
             }
            },
            "type": "parcoords"
           }
          ],
          "pie": [
           {
            "automargin": true,
            "type": "pie"
           }
          ],
          "scatter": [
           {
            "marker": {
             "colorbar": {
              "outlinewidth": 0,
              "ticks": ""
             }
            },
            "type": "scatter"
           }
          ],
          "scatter3d": [
           {
            "line": {
             "colorbar": {
              "outlinewidth": 0,
              "ticks": ""
             }
            },
            "marker": {
             "colorbar": {
              "outlinewidth": 0,
              "ticks": ""
             }
            },
            "type": "scatter3d"
           }
          ],
          "scattercarpet": [
           {
            "marker": {
             "colorbar": {
              "outlinewidth": 0,
              "ticks": ""
             }
            },
            "type": "scattercarpet"
           }
          ],
          "scattergeo": [
           {
            "marker": {
             "colorbar": {
              "outlinewidth": 0,
              "ticks": ""
             }
            },
            "type": "scattergeo"
           }
          ],
          "scattergl": [
           {
            "marker": {
             "colorbar": {
              "outlinewidth": 0,
              "ticks": ""
             }
            },
            "type": "scattergl"
           }
          ],
          "scattermapbox": [
           {
            "marker": {
             "colorbar": {
              "outlinewidth": 0,
              "ticks": ""
             }
            },
            "type": "scattermapbox"
           }
          ],
          "scatterpolar": [
           {
            "marker": {
             "colorbar": {
              "outlinewidth": 0,
              "ticks": ""
             }
            },
            "type": "scatterpolar"
           }
          ],
          "scatterpolargl": [
           {
            "marker": {
             "colorbar": {
              "outlinewidth": 0,
              "ticks": ""
             }
            },
            "type": "scatterpolargl"
           }
          ],
          "scatterternary": [
           {
            "marker": {
             "colorbar": {
              "outlinewidth": 0,
              "ticks": ""
             }
            },
            "type": "scatterternary"
           }
          ],
          "surface": [
           {
            "colorbar": {
             "outlinewidth": 0,
             "ticks": ""
            },
            "colorscale": [
             [
              0,
              "#0d0887"
             ],
             [
              0.1111111111111111,
              "#46039f"
             ],
             [
              0.2222222222222222,
              "#7201a8"
             ],
             [
              0.3333333333333333,
              "#9c179e"
             ],
             [
              0.4444444444444444,
              "#bd3786"
             ],
             [
              0.5555555555555556,
              "#d8576b"
             ],
             [
              0.6666666666666666,
              "#ed7953"
             ],
             [
              0.7777777777777778,
              "#fb9f3a"
             ],
             [
              0.8888888888888888,
              "#fdca26"
             ],
             [
              1,
              "#f0f921"
             ]
            ],
            "type": "surface"
           }
          ],
          "table": [
           {
            "cells": {
             "fill": {
              "color": "#EBF0F8"
             },
             "line": {
              "color": "white"
             }
            },
            "header": {
             "fill": {
              "color": "#C8D4E3"
             },
             "line": {
              "color": "white"
             }
            },
            "type": "table"
           }
          ]
         },
         "layout": {
          "annotationdefaults": {
           "arrowcolor": "#2a3f5f",
           "arrowhead": 0,
           "arrowwidth": 1
          },
          "autotypenumbers": "strict",
          "coloraxis": {
           "colorbar": {
            "outlinewidth": 0,
            "ticks": ""
           }
          },
          "colorscale": {
           "diverging": [
            [
             0,
             "#8e0152"
            ],
            [
             0.1,
             "#c51b7d"
            ],
            [
             0.2,
             "#de77ae"
            ],
            [
             0.3,
             "#f1b6da"
            ],
            [
             0.4,
             "#fde0ef"
            ],
            [
             0.5,
             "#f7f7f7"
            ],
            [
             0.6,
             "#e6f5d0"
            ],
            [
             0.7,
             "#b8e186"
            ],
            [
             0.8,
             "#7fbc41"
            ],
            [
             0.9,
             "#4d9221"
            ],
            [
             1,
             "#276419"
            ]
           ],
           "sequential": [
            [
             0,
             "#0d0887"
            ],
            [
             0.1111111111111111,
             "#46039f"
            ],
            [
             0.2222222222222222,
             "#7201a8"
            ],
            [
             0.3333333333333333,
             "#9c179e"
            ],
            [
             0.4444444444444444,
             "#bd3786"
            ],
            [
             0.5555555555555556,
             "#d8576b"
            ],
            [
             0.6666666666666666,
             "#ed7953"
            ],
            [
             0.7777777777777778,
             "#fb9f3a"
            ],
            [
             0.8888888888888888,
             "#fdca26"
            ],
            [
             1,
             "#f0f921"
            ]
           ],
           "sequentialminus": [
            [
             0,
             "#0d0887"
            ],
            [
             0.1111111111111111,
             "#46039f"
            ],
            [
             0.2222222222222222,
             "#7201a8"
            ],
            [
             0.3333333333333333,
             "#9c179e"
            ],
            [
             0.4444444444444444,
             "#bd3786"
            ],
            [
             0.5555555555555556,
             "#d8576b"
            ],
            [
             0.6666666666666666,
             "#ed7953"
            ],
            [
             0.7777777777777778,
             "#fb9f3a"
            ],
            [
             0.8888888888888888,
             "#fdca26"
            ],
            [
             1,
             "#f0f921"
            ]
           ]
          },
          "colorway": [
           "#636efa",
           "#EF553B",
           "#00cc96",
           "#ab63fa",
           "#FFA15A",
           "#19d3f3",
           "#FF6692",
           "#B6E880",
           "#FF97FF",
           "#FECB52"
          ],
          "font": {
           "color": "#2a3f5f"
          },
          "geo": {
           "bgcolor": "white",
           "lakecolor": "white",
           "landcolor": "#E5ECF6",
           "showlakes": true,
           "showland": true,
           "subunitcolor": "white"
          },
          "hoverlabel": {
           "align": "left"
          },
          "hovermode": "closest",
          "mapbox": {
           "style": "light"
          },
          "paper_bgcolor": "white",
          "plot_bgcolor": "#E5ECF6",
          "polar": {
           "angularaxis": {
            "gridcolor": "white",
            "linecolor": "white",
            "ticks": ""
           },
           "bgcolor": "#E5ECF6",
           "radialaxis": {
            "gridcolor": "white",
            "linecolor": "white",
            "ticks": ""
           }
          },
          "scene": {
           "xaxis": {
            "backgroundcolor": "#E5ECF6",
            "gridcolor": "white",
            "gridwidth": 2,
            "linecolor": "white",
            "showbackground": true,
            "ticks": "",
            "zerolinecolor": "white"
           },
           "yaxis": {
            "backgroundcolor": "#E5ECF6",
            "gridcolor": "white",
            "gridwidth": 2,
            "linecolor": "white",
            "showbackground": true,
            "ticks": "",
            "zerolinecolor": "white"
           },
           "zaxis": {
            "backgroundcolor": "#E5ECF6",
            "gridcolor": "white",
            "gridwidth": 2,
            "linecolor": "white",
            "showbackground": true,
            "ticks": "",
            "zerolinecolor": "white"
           }
          },
          "shapedefaults": {
           "line": {
            "color": "#2a3f5f"
           }
          },
          "ternary": {
           "aaxis": {
            "gridcolor": "white",
            "linecolor": "white",
            "ticks": ""
           },
           "baxis": {
            "gridcolor": "white",
            "linecolor": "white",
            "ticks": ""
           },
           "bgcolor": "#E5ECF6",
           "caxis": {
            "gridcolor": "white",
            "linecolor": "white",
            "ticks": ""
           }
          },
          "title": {
           "x": 0.05
          },
          "xaxis": {
           "automargin": true,
           "gridcolor": "white",
           "linecolor": "white",
           "ticks": "",
           "title": {
            "standoff": 15
           },
           "zerolinecolor": "white",
           "zerolinewidth": 2
          },
          "yaxis": {
           "automargin": true,
           "gridcolor": "white",
           "linecolor": "white",
           "ticks": "",
           "title": {
            "standoff": 15
           },
           "zerolinecolor": "white",
           "zerolinewidth": 2
          }
         }
        },
        "width": 750,
        "xaxis": {
         "anchor": "y",
         "domain": [
          0,
          1
         ],
         "title": {
          "text": "x"
         }
        },
        "yaxis": {
         "anchor": "x",
         "domain": [
          0,
          1
         ],
         "title": {
          "text": "y"
         }
        }
       }
      }
     },
     "metadata": {},
     "output_type": "display_data"
    }
   ],
   "source": [
    "picture = machine.plot(skip='')\n",
    "picture.write_html(\"SG-plot.html\")\n",
    "picture.show()"
   ]
  },
  {
   "cell_type": "markdown",
   "metadata": {},
   "source": [
    "---"
   ]
  },
  {
   "cell_type": "code",
   "execution_count": 60,
   "metadata": {},
   "outputs": [],
   "source": [
    "# pair = (\"chest\", \"tube\")\n",
    "# pair = (\"2019\", \"coronaviru\")\n",
    "pair = (\"obs\", \"ambulatori\")\n",
    "# pair = (\"ocular\", \"uveal\")\n"
   ]
  },
  {
   "cell_type": "markdown",
   "metadata": {},
   "source": [
    "##  使用 tf"
   ]
  },
  {
   "cell_type": "code",
   "execution_count": 61,
   "metadata": {},
   "outputs": [],
   "source": [
    "##  Term document matrix.\n",
    "weight = extension.weight(matrix=vocabulary.matrix)\n",
    "matrix = weight.transform(what='tf')"
   ]
  },
  {
   "cell_type": "code",
   "execution_count": 62,
   "metadata": {},
   "outputs": [
    {
     "name": "stdout",
     "output_type": "stream",
     "text": [
      "title : Clinical features of 8295 patients with resistant hypertension classified on the basis of ambulatory blood pressure monitoring\n",
      "---------- abstract ---------- \n",
      " We aimed to estimate the prevalence of resistant hypertension through both office and ambulatory blood pressure monitoring in a large cohort of treated hypertensive patients from the Spanish Ambulatory Blood Pressure Monitoring Registry. In addition, we also compared clinical features of patients with true or white-coat-resistant hypertension. In December 2009, we identified 68 045 treated patients with complete information for this analysis. Among them, 8295 (12.2% of the database) had resistant hypertension (office blood pressure ≥140 and/or 90 mm Hg while being treated with ≥3 antihypertensive drugs, 1 of them being a diuretic). After ambulatory blood pressure monitoring, 62.5% of patients were classified as true resistant hypertensives, the remaining 37.5% having white-coat resistance. The former group was younger, more frequently men, with a longer duration of hypertension and a worse cardiovascular risk profile. The group included larger proportions of smokers, diabetics, target organ damage (including left ventricular hypertrophy, impaired renal function, and microalbuminuria), and documented cardiovascular disease. Moreover, true resistant hypertensives exhibited in a greater proportion a riser pattern (22% versus 18%; P<0.001). In conclusion, this study first reports the prevalence of resistant hypertension in a large cohort of patients in usual daily practice. Resistant hypertension is present in 12% of the treated hypertensive population, but among them more than one third have normal ambulatory blood pressure. A worse risk profile is associated with true resistant hypertension, but this association is weak, thus making it necessary to assess ambulatory blood pressure monitoring for a correct diagnosis and management. \n",
      "\n",
      "---------- abstract (tokenize + stemming + remove stopword) ---------- \n",
      " ['aim', 'estim', 'preval', 'resist', 'hypertens', 'offic', '**ambulatori**', 'blood', 'pressur', 'monitor', 'larg', 'cohort', 'treat', 'hypertens', 'patient', 'spanish', '**ambulatori**', 'blood', 'pressur', 'monitor', 'registri', 'addit', 'also', 'compar', 'clinic', 'featur', 'patient', 'true', 'white-coat-resist', 'hypertens', 'decemb', '2009', 'identifi', '68', '045', 'treat', 'patient', 'complet', 'inform', 'thi', 'analysi', 'among', '8295', '122', 'databas', 'resist', 'hypertens', 'offic', 'blood', 'pressur', '≥140', 'andor', '90', 'mm', 'hg', 'treat', '≥3', 'antihypertens', 'drug', '1', 'diuret', '**ambulatori**', 'blood', 'pressur', 'monitor', '625', 'patient', 'classifi', 'true', 'resist', 'hypertens', 'remain', '375', 'white-coat', 'resist', 'former', 'group', 'wa', 'younger', 'frequent', 'men', 'longer', 'durat', 'hypertens', 'wors', 'cardiovascular', 'risk', 'profil', 'group', 'includ', 'larger', 'proport', 'smoker', 'diabet', 'target', 'organ', 'damag', 'includ', 'left', 'ventricular', 'hypertrophi', 'impair', 'renal', 'function', 'microalbuminuria', 'document', 'cardiovascular', 'diseas', 'moreov', 'true', 'resist', 'hypertens', 'exhibit', 'greater', 'proport', 'riser', 'pattern', '22', 'versu', '18', 'p0001', 'conclus', 'thi', 'studi', 'first', 'report', 'preval', 'resist', 'hypertens', 'larg', 'cohort', 'patient', 'usual', 'daili', 'practic', 'resist', 'hypertens', 'present', '12', 'treat', 'hypertens', 'popul', 'among', 'one', 'third', 'normal', '**ambulatori**', 'blood', 'pressur', 'wors', 'risk', 'profil', 'associ', 'true', 'resist', 'hypertens', 'thi', 'associ', 'weak', 'thu', 'make', 'necessari', 'assess', '**ambulatori**', 'blood', 'pressur', 'monitor', 'correct', 'diagnosi', 'manag']\n"
     ]
    }
   ],
   "source": [
    "comparison = matrix.loc[(matrix.index==pair[0])|(matrix.index==pair[1])].sum(axis=0)\n",
    "title = tabulation.data.loc[tabulation.data['title']==comparison.idxmax()]['title'].item()\n",
    "text = tabulation.data.loc[tabulation.data['title']==comparison.idxmax()]['abstract'].item()\n",
    "print('title : {}'.format(title))\n",
    "print('-'*10, 'abstract', '-'*10, '\\n', text, '\\n')\n",
    "print('-'*10, 'abstract (tokenize + stemming + remove stopword)', '-'*10, '\\n', [re.sub(i, \"**\"+i+\"**\", i) if((pair[0] in i)or(pair[1] in i)) else i  for i in vocabulary.tokenize(text)])"
   ]
  },
  {
   "cell_type": "markdown",
   "metadata": {},
   "source": [
    "##  使用 tf-idf"
   ]
  },
  {
   "cell_type": "code",
   "execution_count": 48,
   "metadata": {},
   "outputs": [],
   "source": [
    "##  Term document matrix.\n",
    "weight = extension.weight(matrix=vocabulary.matrix)\n",
    "matrix = weight.transform(what='tf-idf')"
   ]
  },
  {
   "cell_type": "code",
   "execution_count": 49,
   "metadata": {},
   "outputs": [
    {
     "name": "stdout",
     "output_type": "stream",
     "text": [
      "title : [Choroidal and ciliary body melanoma: case report]\n",
      "---------- abstract ---------- \n",
      " Ocular melanomas correspond to 5% of all melanomas and 85% of them have its origin in the uveal tract. Uveal melanoma is the most common primary intraocular malignant tumor in the adult. In this article, a case of uveal melanoma in a 31 year-old female patient, with photopsia, hyperemia and low visual acuity in the left eye with evolution of 4 months is presented. In the ophthalmologic examination, visual acuity was lower than 20/400, a large tumoral mass was noted at the nasal region behind the iris with anterior lens displacement, anterior chamber narrowing and serous retinal detachment. The ocular echography suggested a large tumoral mass as a choroidal melanoma extending to the ciliary body. The confirmation diagnosis was possible through the histopathologic examination. \n",
      "\n",
      "---------- abstract (tokenize + stemming + remove stopword) ---------- \n",
      " ['**ocular**', 'melanoma', 'correspond', '5', 'melanoma', '85', 'origin', '**uveal**', 'tract', '**uveal**', 'melanoma', 'common', 'primari', '**intraocular**', 'malign', 'tumor', 'adult', 'thi', 'articl', 'case', '**uveal**', 'melanoma', '31', 'year-old', 'femal', 'patient', 'photopsia', 'hyperemia', 'low', 'visual', 'acuiti', 'left', 'eye', 'evolut', '4', 'month', 'present', 'ophthalmolog', 'examin', 'visual', 'acuiti', 'wa', 'lower', '20400', 'larg', 'tumor', 'mass', 'wa', 'note', 'nasal', 'region', 'behind', 'iri', 'anterior', 'len', 'displac', 'anterior', 'chamber', 'narrow', 'serou', 'retin', 'detach', '**ocular**', 'echographi', 'suggest', 'larg', 'tumor', 'mass', 'choroid', 'melanoma', 'extend', 'ciliari', 'bodi', 'confirm', 'diagnosi', 'wa', 'possibl', 'histopatholog', 'examin']\n"
     ]
    }
   ],
   "source": [
    "comparison = matrix.loc[(matrix.index==pair[0])|(matrix.index==pair[1])].sum(axis=0)\n",
    "title = tabulation.data.loc[tabulation.data['title']==comparison.idxmax()]['title'].item()\n",
    "text = tabulation.data.loc[tabulation.data['title']==comparison.idxmax()]['abstract'].item()\n",
    "print('title : {}'.format(title))\n",
    "print('-'*10, 'abstract', '-'*10, '\\n', text, '\\n')\n",
    "print('-'*10, 'abstract (tokenize + stemming + remove stopword)', '-'*10, '\\n', [re.sub(i, \"**\"+i+\"**\", i) if((pair[0] in i)or(pair[1] in i)) else i  for i in vocabulary.tokenize(text)])"
   ]
  },
  {
   "cell_type": "markdown",
   "metadata": {},
   "source": [
    "##  使用 norm-tf-idf"
   ]
  },
  {
   "cell_type": "code",
   "execution_count": 63,
   "metadata": {},
   "outputs": [],
   "source": [
    "##  Term document matrix.\n",
    "weight = extension.weight(matrix=vocabulary.matrix)\n",
    "matrix = weight.transform(what='norm-tf-idf')"
   ]
  },
  {
   "cell_type": "code",
   "execution_count": 64,
   "metadata": {},
   "outputs": [
    {
     "name": "stdout",
     "output_type": "stream",
     "text": [
      "title : [Definition of arterial hypertension]\n",
      "---------- abstract ---------- \n",
      " Recent publication of several consensus by well-known international experts in the field of high blood pressure gives us the opportunity to update the definition of hypertension. For the first time, systolic blood pressure is taken into account to define hypertensives. Ambulatory blood pressure monitoring has been recently developed for the evaluation and treatment of hypertensive patients. Due to the absence of world-wide recognized normative data and the lack of prospective studies assessing the superiority of ambulatory blood pressure monitoring over casual blood pressure measurement for the prediction of cardiovascular events, the use of this new technique is to be restricted to a limited number of hypertensive patients. \n",
      "\n",
      "---------- abstract (tokenize + stemming + remove stopword) ---------- \n",
      " ['recent', 'public', 'sever', 'consensu', 'well-known', 'intern', 'expert', 'field', 'high', 'blood', 'pressur', 'give', 'us', 'opportun', 'updat', 'definit', 'hypertens', 'first', 'time', 'systol', 'blood', 'pressur', 'taken', 'account', 'defin', 'hypertens', '**ambulatori**', 'blood', 'pressur', 'monitor', 'ha', 'recent', 'develop', 'evalu', 'treatment', 'hypertens', 'patient', 'due', 'absenc', 'world-wid', 'recogn', 'norm', 'data', 'lack', 'prospect', 'studi', 'assess', 'superior', '**ambulatori**', 'blood', 'pressur', 'monitor', 'casual', 'blood', 'pressur', 'measur', 'predict', 'cardiovascular', 'event', 'use', 'thi', 'new', 'techniqu', 'restrict', 'limit', 'number', 'hypertens', 'patient']\n"
     ]
    }
   ],
   "source": [
    "comparison = matrix.loc[(matrix.index==pair[0])|(matrix.index==pair[1])].sum(axis=0)\n",
    "title = tabulation.data.loc[tabulation.data['title']==comparison.idxmax()]['title'].item()\n",
    "text = tabulation.data.loc[tabulation.data['title']==comparison.idxmax()]['abstract'].item()\n",
    "print('title : {}'.format(title))\n",
    "print('-'*10, 'abstract', '-'*10, '\\n', text, '\\n')\n",
    "print('-'*10, 'abstract (tokenize + stemming + remove stopword)', '-'*10, '\\n', [re.sub(i, \"**\"+i+\"**\", i) if((pair[0] in i)or(pair[1] in i)) else i  for i in vocabulary.tokenize(text)])"
   ]
  },
  {
   "cell_type": "markdown",
   "metadata": {},
   "source": []
  },
  {
   "cell_type": "code",
   "execution_count": null,
   "metadata": {},
   "outputs": [],
   "source": [
    "# comparison = matrix.loc[(matrix.index=='borderlin')|(matrix.index=='obes')].sum(axis=0)\n",
    "# text = tabulation.data.loc[tabulation.data['title']==comparison.idxmax()]['abstract'].item()\n",
    "# print('-'*10, 'abstract', '-'*10, '\\n', text, '\\n')\n",
    "# print('-'*10, 'abstract (tokenize + stemming + remove stopword)', '-'*10, '\\n', vocabulary.tokenize(text))"
   ]
  },
  {
   "cell_type": "code",
   "execution_count": null,
   "metadata": {},
   "outputs": [],
   "source": [
    "# comparison = matrix.loc[(matrix.index=='attach')|(matrix.index=='three-bottl')].sum(axis=0)\n",
    "# text = tabulation.data.loc[tabulation.data['title']==comparison.idxmax()]['abstract'].item()\n",
    "# print('-'*10, 'abstract', '-'*10, '\\n', text, '\\n')\n",
    "# print('-'*10, 'abstract (tokenize + stemming + remove stopword)', '-'*10, '\\n', vocabulary.tokenize(text))"
   ]
  },
  {
   "cell_type": "code",
   "execution_count": null,
   "metadata": {},
   "outputs": [],
   "source": [
    "# comparison = matrix.loc[(matrix.index=='ocular')|(matrix.index=='uveal')].sum(axis=0)\n",
    "# text = tabulation.data.loc[tabulation.data['title']==comparison.idxmax()]['abstract'].item()\n",
    "# print('-'*10, 'abstract', '-'*10, '\\n', text, '\\n')\n",
    "# print('-'*10, 'abstract (tokenize + stemming + remove stopword)', '-'*10, '\\n', vocabulary.tokenize(text))"
   ]
  }
 ],
 "metadata": {
  "interpreter": {
   "hash": "52c2d9577c3ae93f164c9f95b2860fd320105e868bfaa6ef38214209ec54a631"
  },
  "kernelspec": {
   "display_name": "Python 3.7.11 64-bit ('DL': conda)",
   "language": "python",
   "name": "python3"
  },
  "language_info": {
   "codemirror_mode": {
    "name": "ipython",
    "version": 3
   },
   "file_extension": ".py",
   "mimetype": "text/x-python",
   "name": "python",
   "nbconvert_exporter": "python",
   "pygments_lexer": "ipython3",
   "version": "3.7.11"
  },
  "orig_nbformat": 4
 },
 "nbformat": 4,
 "nbformat_minor": 2
}
