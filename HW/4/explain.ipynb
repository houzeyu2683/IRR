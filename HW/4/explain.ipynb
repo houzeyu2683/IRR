{
 "cells": [
  {
   "cell_type": "code",
   "execution_count": 1,
   "metadata": {},
   "outputs": [],
   "source": [
    "import data\n",
    "import extension"
   ]
  },
  {
   "cell_type": "code",
   "execution_count": 4,
   "metadata": {},
   "outputs": [
    {
     "name": "stdout",
     "output_type": "stream",
     "text": [
      "(498, 6)\n",
      "melanoma        108\n",
      "chest           107\n",
      "diabetes         98\n",
      "hypertension     97\n",
      "covid-19         88\n",
      "Name: keyword, dtype: int64\n"
     ]
    }
   ],
   "source": [
    "tabulation = data.tabulation(path='resource/csv/data.csv')\n",
    "tabulation.read()\n",
    "print(tabulation.data.shape)\n",
    "print(tabulation.data['keyword'].value_counts())"
   ]
  },
  {
   "cell_type": "code",
   "execution_count": 5,
   "metadata": {},
   "outputs": [
    {
     "name": "stderr",
     "output_type": "stream",
     "text": [
      "100%|██████████| 498/498 [00:01<00:00, 336.72it/s]\n"
     ]
    }
   ],
   "source": [
    "vocabulary = data.vocabulary()\n",
    "vocabulary.build(sentence=tabulation.data['abstract'], title=tabulation.data['title'])"
   ]
  },
  {
   "cell_type": "code",
   "execution_count": 7,
   "metadata": {},
   "outputs": [
    {
     "name": "stdout",
     "output_type": "stream",
     "text": [
      "loss after epoch 0: 1439338.625\n",
      "loss after epoch 1: 2525426.75\n",
      "loss after epoch 2: 3534746.25\n",
      "loss after epoch 3: 4455019.5\n",
      "loss after epoch 4: 5252533.0\n",
      "loss after epoch 5: 6033547.5\n",
      "loss after epoch 6: 6801783.5\n",
      "loss after epoch 7: 7553366.5\n",
      "loss after epoch 8: 8290129.0\n",
      "loss after epoch 9: 8921958.0\n",
      "loss after epoch 10: 9531420.0\n",
      "loss after epoch 11: 10133417.0\n",
      "loss after epoch 12: 10730749.0\n",
      "loss after epoch 13: 11321132.0\n",
      "loss after epoch 14: 11902631.0\n",
      "loss after epoch 15: 12477099.0\n",
      "loss after epoch 16: 13047792.0\n",
      "loss after epoch 17: 13618377.0\n",
      "loss after epoch 18: 14187149.0\n",
      "loss after epoch 19: 14758481.0\n"
     ]
    }
   ],
   "source": [
    "machine = extension.machine(vocabulary.word, vocabulary=vocabulary)\n",
    "machine.build(what='model', by='SG', window=10, dimension=150, epoch=20)\n",
    "machine.collect(title=[\"covid-19\", \"diabetes\", \"melanoma\", \"hypertension\", 'chest'], top=30)\n",
    "machine.reduce(method=\"MDS\", dimension=2)"
   ]
  },
  {
   "cell_type": "code",
   "execution_count": 8,
   "metadata": {},
   "outputs": [
    {
     "data": {
      "application/vnd.plotly.v1+json": {
       "config": {
        "plotlyServerURL": "https://plot.ly"
       },
       "data": [
        {
         "hovertemplate": "type=fish<br>x=%{x}<br>y=%{y}<br>word=%{text}<extra></extra>",
         "legendgroup": "fish",
         "marker": {
          "color": "#636efa",
          "size": 5,
          "symbol": "circle"
         },
         "mode": "markers+text",
         "name": "fish",
         "orientation": "v",
         "showlegend": true,
         "text": [
          "nowaday",
          "polydypsia",
          "cytolog",
          "unsatisfactori",
          "deaf-mut",
          "acral",
          "cerebellum",
          "intend",
          "ejacul",
          "johnson",
          "ocular",
          "so-cal",
          "unchang",
          "intermedi",
          "transform",
          "radiograph",
          "air-fil",
          "disease-2019",
          "hyposecret",
          "combat",
          "cnn",
          "histogenet",
          "adiurekrin",
          "freckl",
          "uncl",
          "sars-cov-2-associ",
          "infecti",
          "pleurisi",
          "ambulatori",
          "endocrinopathi",
          "bp-lower",
          "tuscani",
          "ap",
          "white-coat",
          "psychogen",
          "metastat",
          "metastas",
          "organis",
          "fewer",
          "network",
          "volar",
          "neurosensori",
          "thoracentesi",
          "non-pharmacolog",
          "ward",
          "non-dipp",
          "hyperthyroid",
          "microalbuminuria",
          "delin",
          "insipidu",
          "come",
          "hydrocephalu",
          "pandem",
          "occupi",
          "obes",
          "declar",
          "15-25",
          "meta-analysi",
          "gh",
          "nystagmu",
          "circular",
          "attach",
          "dextrocardia",
          "s100",
          "suction",
          "hypoosmolar",
          "wall",
          "black",
          "radial",
          "aetiolog",
          "uveal",
          "matrix",
          "particl",
          "normotens",
          "045",
          "mild",
          "mellitu",
          "hutchinson",
          "625",
          "ssm",
          "pyothorax",
          "superfici",
          "hypertertens",
          "alm",
          "indonesia",
          "scotland",
          "confront",
          "nephrogen",
          "outbreak",
          "hyperadrenocortic",
          "41-year-old",
          "dispar",
          "leukaemia",
          "coma",
          "borderlin",
          "fifty-f",
          "naevi",
          "23rd",
          "two-year",
          "malign",
          "limb",
          "bacillu",
          "mid-1980",
          "2003",
          "tube",
          "metastasi",
          "anteroposterior",
          "insulin-depend",
          "lithium-induc",
          "sars-cov-1",
          "adenocarcinoma",
          "ventriculo-periton",
          "daytim",
          "clinicopatholog",
          "chloropropamid",
          "vaccin",
          "hyperosmolar",
          "hypothyroid",
          "gdi",
          "late-1990",
          "water-s",
          "pneumonia",
          "ex-hypertens",
          "59",
          "postpneumon",
          "astrazeneca",
          "empyema",
          "melanocytoma",
          "eastern",
          "exud",
          "casesa",
          "three-bottl",
          "betacoronaviru",
          "outflow",
          "non-infecti",
          "blur",
          "hyposomatotrop",
          "underdevelop",
          "healthcar",
          "night-tim",
          "lean",
          "n80",
          "cereu",
          "herald",
          "outstrip",
          "exclud",
          "childhood-onset",
          "rh",
          "coronaviru",
          "2019"
         ],
         "textfont": {
          "size": 10
         },
         "textposition": "top center",
         "type": "scatter",
         "x": [
          -1.215164652421385,
          -1.1329441066583976,
          -0.49678479892043054,
          -0.16670662173341147,
          -0.586655184829263,
          -0.34214108626393425,
          -0.7998947997526562,
          0.4972158326099854,
          0.32387140315690016,
          1.128665368058879,
          -1.2689749329369122,
          0.41241223199136473,
          -0.5836298615018352,
          0.7762090444122582,
          0.02489382380138868,
          -2.313575038823454,
          -1.2233893217334328,
          1.648654205778074,
          -0.49168150242342706,
          1.7186895615222493,
          -0.4052839965633461,
          -0.09011779683973595,
          -0.7735225155893369,
          -0.282226393575813,
          -0.6275662747474157,
          0.7549361921994562,
          1.7934402977423782,
          -0.9411824369486392,
          2.222137046771388,
          -0.7893967155080364,
          0.5666748909499748,
          0.024131865031979553,
          -0.6447005981638299,
          1.413816708800098,
          -0.7328614100188484,
          -0.7080629114636057,
          -1.9529695863159766,
          0.949802185412095,
          0.34694506958510885,
          -0.41361082529764914,
          -0.30151097810925837,
          -1.21669484433651,
          -1.349694311548238,
          1.3796815809727723,
          1.2288171340285152,
          0.37870266790962065,
          -0.6992363953632915,
          1.132488648451601,
          0.10670273240850969,
          -2.590882621729331,
          -0.3757277975345528,
          -2.0306378328676233,
          2.811531107637206,
          -1.908086956795093,
          2.6693527515233413,
          1.0908707137071139,
          0.7377030415428912,
          0.8153728682443732,
          -0.39488458190243325,
          -0.4573049181439409,
          -1.1108341859264188,
          -1.0998870843106847,
          -1.6359728758498229,
          -0.30972573623859545,
          -1.713766642492893,
          -0.7197235352636783,
          -3.0165504149335907,
          1.87837019505435,
          0.030445159525069293,
          0.1280037794536161,
          -1.1807859196541786,
          -0.1614509129916544,
          1.1399788829760975,
          1.170567702339172,
          1.112405470886702,
          2.1518438423429727,
          -1.1678693748966082,
          -0.23121796631511998,
          0.6858796888255315,
          -0.05773769552143777,
          -0.8591392945662923,
          0.4168906585245716,
          0.6056254293888943,
          -0.2698566143957581,
          1.9054561680978674,
          0.18953190460379288,
          0.3708824050262531,
          -2.3820391693514016,
          2.436282315081137,
          -0.7422322771935655,
          -0.5894417523838873,
          0.5583955152788044,
          -1.4744627484760366,
          -0.8123705770794689,
          2.894268098603638,
          0.34946824014288513,
          0.8501574878600253,
          0.6755593858985428,
          0.701781236659307,
          -0.1962286503635832,
          -0.8036724940517307,
          -0.8225518664943652,
          -0.03670404009113286,
          0.888864054192408,
          -3.3465802033328327,
          -0.8118630504128808,
          -1.1107371385531626,
          -1.0111700116507496,
          -0.5954490555907626,
          1.0384136503174664,
          -0.0038536331224213274,
          -0.8318358519559099,
          1.0072080376429575,
          0.21097385966429025,
          -0.7407468402008579,
          3.366112517656158,
          -0.6317904756974898,
          -1.155868782105717,
          -0.9896625432605793,
          -0.02454932830960328,
          -0.938951702369615,
          2.143117769738095,
          0.9549292666342358,
          1.432018328995195,
          -1.1131802137170594,
          0.7181300375778642,
          -2.1689316402619165,
          -0.5239308108830342,
          0.2247595452535208,
          -0.8654466500553946,
          0.7013715235702382,
          -1.084226607146927,
          1.4483394579009548,
          -0.6409053982347429,
          1.2550589966791663,
          0.3059396746457523,
          -0.8281794078471341,
          -1.3818615812792034,
          1.7064477235543456,
          0.47282447425357066,
          0.7365727005277063,
          0.5266394373261895,
          -0.8569118086467866,
          0.9123725637397727,
          0.7245663449132604,
          -1.0167549239256568,
          -1.1874859726704972,
          0.9539646386422521,
          3.381300719815734,
          3.2629785769286395
         ],
         "xaxis": "x",
         "y": [
          0.5212337686356187,
          -1.4175611174983642,
          1.3734834859039453,
          0.9159699581014895,
          -0.9844377555362844,
          2.6947925395656145,
          0.22726365907794985,
          0.1278125154686396,
          -1.0115633137528073,
          0.22587243872749246,
          2.073220678654431,
          -1.1586680503626183,
          0.12439252268161506,
          -1.2132276807741313,
          1.3280137438537103,
          0.8208808557628123,
          0.21887532954101196,
          0.8568398205702537,
          -0.9536152548194681,
          1.197006997980873,
          0.33255789222682275,
          1.1782997572750726,
          -1.022600439482355,
          1.7789494598229145,
          -0.9858627068750517,
          0.3665427594028328,
          0.6088908696704535,
          0.1907425701754514,
          -2.9224500087611425,
          -1.1392066170464032,
          -0.8193102610940628,
          0.571590851501603,
          0.22644042482799875,
          -1.8474766010527446,
          -1.3787695937476767,
          3.4646685696678405,
          3.541163627217059,
          0.7832236878324471,
          -0.4080698831256209,
          0.27938146977374306,
          1.4223641437992374,
          -1.2924112974061635,
          0.7256426658575716,
          -1.333401355409376,
          0.667961104532352,
          -0.7012873492704123,
          -0.7736599190159104,
          -2.6527509833245686,
          0.8607219932558068,
          -2.8639501840287855,
          -0.6087473079453568,
          0.09288939107394453,
          1.4952785174359091,
          0.5565733275753588,
          -1.9879109161809039,
          0.4539927067736962,
          -0.7152131378345459,
          0.10990823930589866,
          -0.8273401880772321,
          -0.79088160876544,
          0.3257225144799045,
          0.627682717972709,
          0.28194712093379876,
          1.1441136446298719,
          0.6747342984523973,
          -0.8164412340422675,
          -0.11264644025965866,
          -1.0733208602048632,
          1.7984134408579042,
          0.5234958721088455,
          1.8612595492663229,
          1.302203360591259,
          0.3302363001525152,
          -3.935380982922105,
          -0.8628757909179285,
          -2.0809886028058093,
          -3.3643132945951773,
          1.6618953309785267,
          -0.955875597903669,
          0.5473156294187315,
          0.39554995886561184,
          3.1900724592997185,
          -1.1231756171627798,
          1.4130778890855014,
          0.28549053042902933,
          1.7224646586357168,
          0.10779207102853117,
          -2.1443013292574773,
          0.8024675983273432,
          -0.6659553432186921,
          -0.7335335788562163,
          0.0946441706953125,
          -1.389791564557285,
          -0.7971363335805336,
          -1.8007244254521575,
          -0.9390050234335593,
          2.515600498468628,
          0.15999960291794985,
          -0.6186159608494648,
          3.414973858981858,
          0.07639150943502737,
          0.4037299694033043,
          0.7822037193570804,
          0.4281637661044082,
          1.6060761907826215,
          2.2183235465081044,
          0.09974086937646774,
          -2.084868564639621,
          -1.2458023708128159,
          0.35118387006769075,
          1.160303444212879,
          0.11339258892416329,
          -2.11455120591183,
          1.482905414122299,
          -1.0066023067670604,
          2.4879979634957916,
          -0.7258860491033616,
          -1.3540843081724214,
          -1.7747059751813803,
          0.8443608040410012,
          0.5529683111790722,
          0.7195608370215848,
          -1.189972984476634,
          -1.3090546307324302,
          0.41189774043059146,
          0.27459655776281483,
          0.4276569799171075,
          1.74770401854081,
          -0.5255478308529533,
          0.183003619758705,
          0.19463198899044412,
          0.6155002840368584,
          0.3698907859573009,
          -0.8802702672370493,
          0.5703103576198335,
          -1.0428123053298555,
          -0.74453850669864,
          -0.10109779637012752,
          0.742246037292204,
          -0.694825143344903,
          -2.2557225191304067,
          -0.6267233588640914,
          0.3750789604062515,
          0.4613075922722082,
          0.5195601997488032,
          -0.8694869468725341,
          -1.6588746896714408,
          -1.54758341027543,
          0.633824759376146,
          1.017575290717577
         ],
         "yaxis": "y"
        },
        {
         "hovertemplate": "type=bait<br>x=%{x}<br>y=%{y}<br>word=%{text}<extra></extra>",
         "legendgroup": "bait",
         "marker": {
          "color": "#EF553B",
          "size": 5,
          "symbol": "circle"
         },
         "mode": "markers+text",
         "name": "bait",
         "orientation": "v",
         "showlegend": true,
         "text": [
          "melanoma",
          "covid-19",
          "diabet",
          "chest",
          "hypertens"
         ],
         "textfont": {
          "size": 10
         },
         "textposition": "top center",
         "type": "scatter",
         "x": [
          0.19613680008234394,
          3.6329961616577116,
          -2.0213210806382214,
          -3.466358348191143,
          1.6429300935346542
         ],
         "xaxis": "x",
         "y": [
          3.304427608032873,
          1.4205935634498488,
          -2.956475450805335,
          0.7790354211034309,
          -3.036797857095385
         ],
         "yaxis": "y"
        }
       ],
       "layout": {
        "legend": {
         "title": {
          "text": "type"
         },
         "tracegroupgap": 0
        },
        "margin": {
         "t": 60
        },
        "template": {
         "data": {
          "bar": [
           {
            "error_x": {
             "color": "#2a3f5f"
            },
            "error_y": {
             "color": "#2a3f5f"
            },
            "marker": {
             "line": {
              "color": "#E5ECF6",
              "width": 0.5
             },
             "pattern": {
              "fillmode": "overlay",
              "size": 10,
              "solidity": 0.2
             }
            },
            "type": "bar"
           }
          ],
          "barpolar": [
           {
            "marker": {
             "line": {
              "color": "#E5ECF6",
              "width": 0.5
             },
             "pattern": {
              "fillmode": "overlay",
              "size": 10,
              "solidity": 0.2
             }
            },
            "type": "barpolar"
           }
          ],
          "carpet": [
           {
            "aaxis": {
             "endlinecolor": "#2a3f5f",
             "gridcolor": "white",
             "linecolor": "white",
             "minorgridcolor": "white",
             "startlinecolor": "#2a3f5f"
            },
            "baxis": {
             "endlinecolor": "#2a3f5f",
             "gridcolor": "white",
             "linecolor": "white",
             "minorgridcolor": "white",
             "startlinecolor": "#2a3f5f"
            },
            "type": "carpet"
           }
          ],
          "choropleth": [
           {
            "colorbar": {
             "outlinewidth": 0,
             "ticks": ""
            },
            "type": "choropleth"
           }
          ],
          "contour": [
           {
            "colorbar": {
             "outlinewidth": 0,
             "ticks": ""
            },
            "colorscale": [
             [
              0,
              "#0d0887"
             ],
             [
              0.1111111111111111,
              "#46039f"
             ],
             [
              0.2222222222222222,
              "#7201a8"
             ],
             [
              0.3333333333333333,
              "#9c179e"
             ],
             [
              0.4444444444444444,
              "#bd3786"
             ],
             [
              0.5555555555555556,
              "#d8576b"
             ],
             [
              0.6666666666666666,
              "#ed7953"
             ],
             [
              0.7777777777777778,
              "#fb9f3a"
             ],
             [
              0.8888888888888888,
              "#fdca26"
             ],
             [
              1,
              "#f0f921"
             ]
            ],
            "type": "contour"
           }
          ],
          "contourcarpet": [
           {
            "colorbar": {
             "outlinewidth": 0,
             "ticks": ""
            },
            "type": "contourcarpet"
           }
          ],
          "heatmap": [
           {
            "colorbar": {
             "outlinewidth": 0,
             "ticks": ""
            },
            "colorscale": [
             [
              0,
              "#0d0887"
             ],
             [
              0.1111111111111111,
              "#46039f"
             ],
             [
              0.2222222222222222,
              "#7201a8"
             ],
             [
              0.3333333333333333,
              "#9c179e"
             ],
             [
              0.4444444444444444,
              "#bd3786"
             ],
             [
              0.5555555555555556,
              "#d8576b"
             ],
             [
              0.6666666666666666,
              "#ed7953"
             ],
             [
              0.7777777777777778,
              "#fb9f3a"
             ],
             [
              0.8888888888888888,
              "#fdca26"
             ],
             [
              1,
              "#f0f921"
             ]
            ],
            "type": "heatmap"
           }
          ],
          "heatmapgl": [
           {
            "colorbar": {
             "outlinewidth": 0,
             "ticks": ""
            },
            "colorscale": [
             [
              0,
              "#0d0887"
             ],
             [
              0.1111111111111111,
              "#46039f"
             ],
             [
              0.2222222222222222,
              "#7201a8"
             ],
             [
              0.3333333333333333,
              "#9c179e"
             ],
             [
              0.4444444444444444,
              "#bd3786"
             ],
             [
              0.5555555555555556,
              "#d8576b"
             ],
             [
              0.6666666666666666,
              "#ed7953"
             ],
             [
              0.7777777777777778,
              "#fb9f3a"
             ],
             [
              0.8888888888888888,
              "#fdca26"
             ],
             [
              1,
              "#f0f921"
             ]
            ],
            "type": "heatmapgl"
           }
          ],
          "histogram": [
           {
            "marker": {
             "pattern": {
              "fillmode": "overlay",
              "size": 10,
              "solidity": 0.2
             }
            },
            "type": "histogram"
           }
          ],
          "histogram2d": [
           {
            "colorbar": {
             "outlinewidth": 0,
             "ticks": ""
            },
            "colorscale": [
             [
              0,
              "#0d0887"
             ],
             [
              0.1111111111111111,
              "#46039f"
             ],
             [
              0.2222222222222222,
              "#7201a8"
             ],
             [
              0.3333333333333333,
              "#9c179e"
             ],
             [
              0.4444444444444444,
              "#bd3786"
             ],
             [
              0.5555555555555556,
              "#d8576b"
             ],
             [
              0.6666666666666666,
              "#ed7953"
             ],
             [
              0.7777777777777778,
              "#fb9f3a"
             ],
             [
              0.8888888888888888,
              "#fdca26"
             ],
             [
              1,
              "#f0f921"
             ]
            ],
            "type": "histogram2d"
           }
          ],
          "histogram2dcontour": [
           {
            "colorbar": {
             "outlinewidth": 0,
             "ticks": ""
            },
            "colorscale": [
             [
              0,
              "#0d0887"
             ],
             [
              0.1111111111111111,
              "#46039f"
             ],
             [
              0.2222222222222222,
              "#7201a8"
             ],
             [
              0.3333333333333333,
              "#9c179e"
             ],
             [
              0.4444444444444444,
              "#bd3786"
             ],
             [
              0.5555555555555556,
              "#d8576b"
             ],
             [
              0.6666666666666666,
              "#ed7953"
             ],
             [
              0.7777777777777778,
              "#fb9f3a"
             ],
             [
              0.8888888888888888,
              "#fdca26"
             ],
             [
              1,
              "#f0f921"
             ]
            ],
            "type": "histogram2dcontour"
           }
          ],
          "mesh3d": [
           {
            "colorbar": {
             "outlinewidth": 0,
             "ticks": ""
            },
            "type": "mesh3d"
           }
          ],
          "parcoords": [
           {
            "line": {
             "colorbar": {
              "outlinewidth": 0,
              "ticks": ""
             }
            },
            "type": "parcoords"
           }
          ],
          "pie": [
           {
            "automargin": true,
            "type": "pie"
           }
          ],
          "scatter": [
           {
            "marker": {
             "colorbar": {
              "outlinewidth": 0,
              "ticks": ""
             }
            },
            "type": "scatter"
           }
          ],
          "scatter3d": [
           {
            "line": {
             "colorbar": {
              "outlinewidth": 0,
              "ticks": ""
             }
            },
            "marker": {
             "colorbar": {
              "outlinewidth": 0,
              "ticks": ""
             }
            },
            "type": "scatter3d"
           }
          ],
          "scattercarpet": [
           {
            "marker": {
             "colorbar": {
              "outlinewidth": 0,
              "ticks": ""
             }
            },
            "type": "scattercarpet"
           }
          ],
          "scattergeo": [
           {
            "marker": {
             "colorbar": {
              "outlinewidth": 0,
              "ticks": ""
             }
            },
            "type": "scattergeo"
           }
          ],
          "scattergl": [
           {
            "marker": {
             "colorbar": {
              "outlinewidth": 0,
              "ticks": ""
             }
            },
            "type": "scattergl"
           }
          ],
          "scattermapbox": [
           {
            "marker": {
             "colorbar": {
              "outlinewidth": 0,
              "ticks": ""
             }
            },
            "type": "scattermapbox"
           }
          ],
          "scatterpolar": [
           {
            "marker": {
             "colorbar": {
              "outlinewidth": 0,
              "ticks": ""
             }
            },
            "type": "scatterpolar"
           }
          ],
          "scatterpolargl": [
           {
            "marker": {
             "colorbar": {
              "outlinewidth": 0,
              "ticks": ""
             }
            },
            "type": "scatterpolargl"
           }
          ],
          "scatterternary": [
           {
            "marker": {
             "colorbar": {
              "outlinewidth": 0,
              "ticks": ""
             }
            },
            "type": "scatterternary"
           }
          ],
          "surface": [
           {
            "colorbar": {
             "outlinewidth": 0,
             "ticks": ""
            },
            "colorscale": [
             [
              0,
              "#0d0887"
             ],
             [
              0.1111111111111111,
              "#46039f"
             ],
             [
              0.2222222222222222,
              "#7201a8"
             ],
             [
              0.3333333333333333,
              "#9c179e"
             ],
             [
              0.4444444444444444,
              "#bd3786"
             ],
             [
              0.5555555555555556,
              "#d8576b"
             ],
             [
              0.6666666666666666,
              "#ed7953"
             ],
             [
              0.7777777777777778,
              "#fb9f3a"
             ],
             [
              0.8888888888888888,
              "#fdca26"
             ],
             [
              1,
              "#f0f921"
             ]
            ],
            "type": "surface"
           }
          ],
          "table": [
           {
            "cells": {
             "fill": {
              "color": "#EBF0F8"
             },
             "line": {
              "color": "white"
             }
            },
            "header": {
             "fill": {
              "color": "#C8D4E3"
             },
             "line": {
              "color": "white"
             }
            },
            "type": "table"
           }
          ]
         },
         "layout": {
          "annotationdefaults": {
           "arrowcolor": "#2a3f5f",
           "arrowhead": 0,
           "arrowwidth": 1
          },
          "autotypenumbers": "strict",
          "coloraxis": {
           "colorbar": {
            "outlinewidth": 0,
            "ticks": ""
           }
          },
          "colorscale": {
           "diverging": [
            [
             0,
             "#8e0152"
            ],
            [
             0.1,
             "#c51b7d"
            ],
            [
             0.2,
             "#de77ae"
            ],
            [
             0.3,
             "#f1b6da"
            ],
            [
             0.4,
             "#fde0ef"
            ],
            [
             0.5,
             "#f7f7f7"
            ],
            [
             0.6,
             "#e6f5d0"
            ],
            [
             0.7,
             "#b8e186"
            ],
            [
             0.8,
             "#7fbc41"
            ],
            [
             0.9,
             "#4d9221"
            ],
            [
             1,
             "#276419"
            ]
           ],
           "sequential": [
            [
             0,
             "#0d0887"
            ],
            [
             0.1111111111111111,
             "#46039f"
            ],
            [
             0.2222222222222222,
             "#7201a8"
            ],
            [
             0.3333333333333333,
             "#9c179e"
            ],
            [
             0.4444444444444444,
             "#bd3786"
            ],
            [
             0.5555555555555556,
             "#d8576b"
            ],
            [
             0.6666666666666666,
             "#ed7953"
            ],
            [
             0.7777777777777778,
             "#fb9f3a"
            ],
            [
             0.8888888888888888,
             "#fdca26"
            ],
            [
             1,
             "#f0f921"
            ]
           ],
           "sequentialminus": [
            [
             0,
             "#0d0887"
            ],
            [
             0.1111111111111111,
             "#46039f"
            ],
            [
             0.2222222222222222,
             "#7201a8"
            ],
            [
             0.3333333333333333,
             "#9c179e"
            ],
            [
             0.4444444444444444,
             "#bd3786"
            ],
            [
             0.5555555555555556,
             "#d8576b"
            ],
            [
             0.6666666666666666,
             "#ed7953"
            ],
            [
             0.7777777777777778,
             "#fb9f3a"
            ],
            [
             0.8888888888888888,
             "#fdca26"
            ],
            [
             1,
             "#f0f921"
            ]
           ]
          },
          "colorway": [
           "#636efa",
           "#EF553B",
           "#00cc96",
           "#ab63fa",
           "#FFA15A",
           "#19d3f3",
           "#FF6692",
           "#B6E880",
           "#FF97FF",
           "#FECB52"
          ],
          "font": {
           "color": "#2a3f5f"
          },
          "geo": {
           "bgcolor": "white",
           "lakecolor": "white",
           "landcolor": "#E5ECF6",
           "showlakes": true,
           "showland": true,
           "subunitcolor": "white"
          },
          "hoverlabel": {
           "align": "left"
          },
          "hovermode": "closest",
          "mapbox": {
           "style": "light"
          },
          "paper_bgcolor": "white",
          "plot_bgcolor": "#E5ECF6",
          "polar": {
           "angularaxis": {
            "gridcolor": "white",
            "linecolor": "white",
            "ticks": ""
           },
           "bgcolor": "#E5ECF6",
           "radialaxis": {
            "gridcolor": "white",
            "linecolor": "white",
            "ticks": ""
           }
          },
          "scene": {
           "xaxis": {
            "backgroundcolor": "#E5ECF6",
            "gridcolor": "white",
            "gridwidth": 2,
            "linecolor": "white",
            "showbackground": true,
            "ticks": "",
            "zerolinecolor": "white"
           },
           "yaxis": {
            "backgroundcolor": "#E5ECF6",
            "gridcolor": "white",
            "gridwidth": 2,
            "linecolor": "white",
            "showbackground": true,
            "ticks": "",
            "zerolinecolor": "white"
           },
           "zaxis": {
            "backgroundcolor": "#E5ECF6",
            "gridcolor": "white",
            "gridwidth": 2,
            "linecolor": "white",
            "showbackground": true,
            "ticks": "",
            "zerolinecolor": "white"
           }
          },
          "shapedefaults": {
           "line": {
            "color": "#2a3f5f"
           }
          },
          "ternary": {
           "aaxis": {
            "gridcolor": "white",
            "linecolor": "white",
            "ticks": ""
           },
           "baxis": {
            "gridcolor": "white",
            "linecolor": "white",
            "ticks": ""
           },
           "bgcolor": "#E5ECF6",
           "caxis": {
            "gridcolor": "white",
            "linecolor": "white",
            "ticks": ""
           }
          },
          "title": {
           "x": 0.05
          },
          "xaxis": {
           "automargin": true,
           "gridcolor": "white",
           "linecolor": "white",
           "ticks": "",
           "title": {
            "standoff": 15
           },
           "zerolinecolor": "white",
           "zerolinewidth": 2
          },
          "yaxis": {
           "automargin": true,
           "gridcolor": "white",
           "linecolor": "white",
           "ticks": "",
           "title": {
            "standoff": 15
           },
           "zerolinecolor": "white",
           "zerolinewidth": 2
          }
         }
        },
        "xaxis": {
         "anchor": "y",
         "domain": [
          0,
          1
         ],
         "title": {
          "text": "x"
         }
        },
        "yaxis": {
         "anchor": "x",
         "domain": [
          0,
          1
         ],
         "title": {
          "text": "y"
         }
        }
       }
      }
     },
     "metadata": {},
     "output_type": "display_data"
    }
   ],
   "source": [
    "picture = machine.plot(skip='')\n",
    "picture.write_html(\"SG-plot.html\")\n",
    "picture.show()"
   ]
  },
  {
   "cell_type": "markdown",
   "metadata": {},
   "source": [
    "##  相鄰的兩字意味著彼此關係較接近，證據為何？用以下例子來嘗試說明。\n",
    "- 相對靠近 chest 的是 tube \n",
    "- 相對靠近 borderlin 的是 obes\n",
    "- 相對靠近 attach 的是 three-bottl  \n",
    "- 相對靠近 ocular 的是 uveal "
   ]
  },
  {
   "cell_type": "code",
   "execution_count": 13,
   "metadata": {},
   "outputs": [],
   "source": [
    "##  Term document matrix.\n",
    "weight = extension.weight(matrix=vocabulary.matrix)\n",
    "matrix = weight.transform(what='tfidf')"
   ]
  },
  {
   "cell_type": "code",
   "execution_count": 25,
   "metadata": {},
   "outputs": [
    {
     "name": "stdout",
     "output_type": "stream",
     "text": [
      "---------- abstract ---------- \n",
      " Since chest tubes have been routinely used to drain the pleural space, particularly after lung surgery, the management of chest tubes is considered to be essential for the thoracic surgeon. The pleural drainage system requires effective drainage, suction, and water-sealing. Another key point of chest tube management is that a water seal is considered to be superior to suction for most air leaks. Nowadays, the most common pleural drainage device attached to the chest tube is the three-bottle system. An electronic chest drainage system has been developed that is effective in standardizing the postoperative management of chest tubes. More liberal use of digital drainage devices in the postoperative management of the pleural space is warranted. The removal of chest tubes is a common procedure occurring almost daily in hospitals throughout the world. Extraction of the tube is usually done at the end of full inspiration or at the end of full expiration. The tube removal technique is not as important as how it is done and the preparation for the procedure. The management of chest tubes must be based on careful observation, the patient's characteristics, and the operative procedures that had been performed. \n",
      "\n",
      "---------- abstract (tokenize + stemming + remove stopword) ---------- \n",
      " ['sinc', 'chest', 'tube', 'routin', 'use', 'drain', 'pleural', 'space', 'particularli', 'lung', 'surgeri', 'manag', 'chest', 'tube', 'consid', 'essenti', 'thorac', 'surgeon', 'pleural', 'drainag', 'system', 'requir', 'effect', 'drainag', 'suction', 'water-s', 'anoth', 'key', 'point', 'chest', 'tube', 'manag', 'water', 'seal', 'consid', 'superior', 'suction', 'air', 'leak', 'nowaday', 'common', 'pleural', 'drainag', 'devic', 'attach', 'chest', 'tube', 'three-bottl', 'system', 'electron', 'chest', 'drainag', 'system', 'ha', 'develop', 'effect', 'standard', 'postop', 'manag', 'chest', 'tube', 'liber', 'use', 'digit', 'drainag', 'devic', 'postop', 'manag', 'pleural', 'space', 'warrant', 'remov', 'chest', 'tube', 'common', 'procedur', 'occur', 'almost', 'daili', 'hospit', 'throughout', 'world', 'extract', 'tube', 'usual', 'done', 'end', 'full', 'inspir', 'end', 'full', 'expir', 'tube', 'remov', 'techniqu', 'import', 'done', 'prepar', 'procedur', 'manag', 'chest', 'tube', 'must', 'base', 'care', 'observ', 'patient', 'characterist', 'oper', 'procedur', 'perform']\n"
     ]
    }
   ],
   "source": [
    "comparison = matrix.loc[(matrix.index=='chest')|(matrix.index=='tube')].sum(axis=0)\n",
    "text = tabulation.data.loc[tabulation.data['title']==comparison.idxmax()]['abstract'].item()\n",
    "print('-'*10, 'abstract', '-'*10, '\\n', text, '\\n')\n",
    "print('-'*10, 'abstract (tokenize + stemming + remove stopword)', '-'*10, '\\n', vocabulary.tokenize(text))"
   ]
  },
  {
   "cell_type": "code",
   "execution_count": 21,
   "metadata": {},
   "outputs": [
    {
     "name": "stdout",
     "output_type": "stream",
     "text": [
      "---------- \n",
      " Cardiovascular risk in a patient with obesity hypertension increases with the extent of risk factor clustering. It is therefore important to determine the global risk of a patient with hypertension rather than to focus solely on blood pressure. Every hypertensive should be screened for other than blood pressure risk factors, target organ damage and concomitant diseases or accompanying clinical conditions. Assessment of blood pressure and target organ damage might be more difficult in obese hypertensives than in normal-weight patients. Intensive lifestyle interventions can reduce weight, and decrease blood pressure and cardiovascular risk in obese hypertensive patients. Current guidelines do not provide specific recommendation for pharmacological management of the hypertensive patients with obesity. Recent trials have consistently shown that therapy involving beta-blockers and diuretics may induce more new-onset diabetes compared with other combination therapies. Several lines of evidence suggest that anti-hypertensive agents that block the renin-angiotensin system may be especially beneficial in treating obese hypertensive patients. Hypertension management in obese individuals is complicated by poorer response to treatment, and the increased need for multiple medications. It is important to consider obstructive sleep apnoea in the differential diagnosis of hypertensive patients who respond poorly to combination therapy with anti-hypertensive medications.\n",
      "---------- \n",
      " ['cardiovascular', 'risk', 'patient', 'obes', 'hypertens', 'increas', 'extent', 'risk', 'factor', 'cluster', 'therefor', 'import', 'determin', 'global', 'risk', 'patient', 'hypertens', 'rather', 'focu', 'sole', 'blood', 'pressur', 'everi', 'hypertens', 'screen', 'blood', 'pressur', 'risk', 'factor', 'target', 'organ', 'damag', 'concomit', 'diseas', 'accompani', 'clinic', 'condit', 'assess', 'blood', 'pressur', 'target', 'organ', 'damag', 'might', 'difficult', 'obes', 'hypertens', 'normal-weight', 'patient', 'intens', 'lifestyl', 'intervent', 'reduc', 'weight', 'decreas', 'blood', 'pressur', 'cardiovascular', 'risk', 'obes', 'hypertens', 'patient', 'current', 'guidelin', 'provid', 'specif', 'recommend', 'pharmacolog', 'manag', 'hypertens', 'patient', 'obes', 'recent', 'trial', 'consist', 'shown', 'therapi', 'involv', 'beta-block', 'diuret', 'may', 'induc', 'new-onset', 'diabet', 'compar', 'combin', 'therapi', 'sever', 'line', 'evid', 'suggest', 'anti-hypertens', 'agent', 'block', 'renin-angiotensin', 'system', 'may', 'especi', 'benefici', 'treat', 'obes', 'hypertens', 'patient', 'hypertens', 'manag', 'obes', 'individu', 'complic', 'poorer', 'respons', 'treatment', 'increas', 'need', 'multipl', 'medic', 'import', 'consid', 'obstruct', 'sleep', 'apnoea', 'differenti', 'diagnosi', 'hypertens', 'patient', 'respond', 'poorli', 'combin', 'therapi', 'anti-hypertens', 'medic']\n"
     ]
    }
   ],
   "source": [
    "comparison = matrix.loc[(matrix.index=='borderlin')|(matrix.index=='obes')].sum(axis=0)\n",
    "text = tabulation.data.loc[tabulation.data['title']==comparison.idxmax()]['abstract'].item()\n",
    "print('-'*10, 'abstract', '-'*10, '\\n', text, '\\n')\n",
    "print('-'*10, 'abstract (tokenize + stemming + remove stopword)', '-'*10, '\\n', vocabulary.tokenize(text))"
   ]
  },
  {
   "cell_type": "code",
   "execution_count": 22,
   "metadata": {},
   "outputs": [
    {
     "name": "stdout",
     "output_type": "stream",
     "text": [
      "---------- \n",
      " Since chest tubes have been routinely used to drain the pleural space, particularly after lung surgery, the management of chest tubes is considered to be essential for the thoracic surgeon. The pleural drainage system requires effective drainage, suction, and water-sealing. Another key point of chest tube management is that a water seal is considered to be superior to suction for most air leaks. Nowadays, the most common pleural drainage device attached to the chest tube is the three-bottle system. An electronic chest drainage system has been developed that is effective in standardizing the postoperative management of chest tubes. More liberal use of digital drainage devices in the postoperative management of the pleural space is warranted. The removal of chest tubes is a common procedure occurring almost daily in hospitals throughout the world. Extraction of the tube is usually done at the end of full inspiration or at the end of full expiration. The tube removal technique is not as important as how it is done and the preparation for the procedure. The management of chest tubes must be based on careful observation, the patient's characteristics, and the operative procedures that had been performed.\n",
      "---------- \n",
      " ['sinc', 'chest', 'tube', 'routin', 'use', 'drain', 'pleural', 'space', 'particularli', 'lung', 'surgeri', 'manag', 'chest', 'tube', 'consid', 'essenti', 'thorac', 'surgeon', 'pleural', 'drainag', 'system', 'requir', 'effect', 'drainag', 'suction', 'water-s', 'anoth', 'key', 'point', 'chest', 'tube', 'manag', 'water', 'seal', 'consid', 'superior', 'suction', 'air', 'leak', 'nowaday', 'common', 'pleural', 'drainag', 'devic', 'attach', 'chest', 'tube', 'three-bottl', 'system', 'electron', 'chest', 'drainag', 'system', 'ha', 'develop', 'effect', 'standard', 'postop', 'manag', 'chest', 'tube', 'liber', 'use', 'digit', 'drainag', 'devic', 'postop', 'manag', 'pleural', 'space', 'warrant', 'remov', 'chest', 'tube', 'common', 'procedur', 'occur', 'almost', 'daili', 'hospit', 'throughout', 'world', 'extract', 'tube', 'usual', 'done', 'end', 'full', 'inspir', 'end', 'full', 'expir', 'tube', 'remov', 'techniqu', 'import', 'done', 'prepar', 'procedur', 'manag', 'chest', 'tube', 'must', 'base', 'care', 'observ', 'patient', 'characterist', 'oper', 'procedur', 'perform']\n"
     ]
    }
   ],
   "source": [
    "comparison = matrix.loc[(matrix.index=='attach')|(matrix.index=='three-bottl')].sum(axis=0)\n",
    "text = tabulation.data.loc[tabulation.data['title']==comparison.idxmax()]['abstract'].item()\n",
    "print('-'*10, 'abstract', '-'*10, '\\n', text, '\\n')\n",
    "print('-'*10, 'abstract (tokenize + stemming + remove stopword)', '-'*10, '\\n', vocabulary.tokenize(text))"
   ]
  },
  {
   "cell_type": "code",
   "execution_count": 23,
   "metadata": {},
   "outputs": [
    {
     "name": "stdout",
     "output_type": "stream",
     "text": [
      "---------- \n",
      " Ocular melanomas correspond to 5% of all melanomas and 85% of them have its origin in the uveal tract. Uveal melanoma is the most common primary intraocular malignant tumor in the adult. In this article, a case of uveal melanoma in a 31 year-old female patient, with photopsia, hyperemia and low visual acuity in the left eye with evolution of 4 months is presented. In the ophthalmologic examination, visual acuity was lower than 20/400, a large tumoral mass was noted at the nasal region behind the iris with anterior lens displacement, anterior chamber narrowing and serous retinal detachment. The ocular echography suggested a large tumoral mass as a choroidal melanoma extending to the ciliary body. The confirmation diagnosis was possible through the histopathologic examination.\n",
      "---------- \n",
      " ['ocular', 'melanoma', 'correspond', '5', 'melanoma', '85', 'origin', 'uveal', 'tract', 'uveal', 'melanoma', 'common', 'primari', 'intraocular', 'malign', 'tumor', 'adult', 'thi', 'articl', 'case', 'uveal', 'melanoma', '31', 'year-old', 'femal', 'patient', 'photopsia', 'hyperemia', 'low', 'visual', 'acuiti', 'left', 'eye', 'evolut', '4', 'month', 'present', 'ophthalmolog', 'examin', 'visual', 'acuiti', 'wa', 'lower', '20400', 'larg', 'tumor', 'mass', 'wa', 'note', 'nasal', 'region', 'behind', 'iri', 'anterior', 'len', 'displac', 'anterior', 'chamber', 'narrow', 'serou', 'retin', 'detach', 'ocular', 'echographi', 'suggest', 'larg', 'tumor', 'mass', 'choroid', 'melanoma', 'extend', 'ciliari', 'bodi', 'confirm', 'diagnosi', 'wa', 'possibl', 'histopatholog', 'examin']\n"
     ]
    }
   ],
   "source": [
    "comparison = matrix.loc[(matrix.index=='ocular')|(matrix.index=='uveal')].sum(axis=0)\n",
    "text = tabulation.data.loc[tabulation.data['title']==comparison.idxmax()]['abstract'].item()\n",
    "print('-'*10, 'abstract', '-'*10, '\\n', text, '\\n')\n",
    "print('-'*10, 'abstract (tokenize + stemming + remove stopword)', '-'*10, '\\n', vocabulary.tokenize(text))"
   ]
  }
 ],
 "metadata": {
  "interpreter": {
   "hash": "52c2d9577c3ae93f164c9f95b2860fd320105e868bfaa6ef38214209ec54a631"
  },
  "kernelspec": {
   "display_name": "Python 3.7.11 64-bit ('DL': conda)",
   "language": "python",
   "name": "python3"
  },
  "language_info": {
   "codemirror_mode": {
    "name": "ipython",
    "version": 3
   },
   "file_extension": ".py",
   "mimetype": "text/x-python",
   "name": "python",
   "nbconvert_exporter": "python",
   "pygments_lexer": "ipython3",
   "version": "3.7.11"
  },
  "orig_nbformat": 4
 },
 "nbformat": 4,
 "nbformat_minor": 2
}
