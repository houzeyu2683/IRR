{
 "cells": [
  {
   "cell_type": "code",
   "execution_count": 84,
   "metadata": {},
   "outputs": [],
   "source": [
    "from xml.etree import ElementTree as et"
   ]
  },
  {
   "cell_type": "code",
   "execution_count": 85,
   "metadata": {},
   "outputs": [],
   "source": [
    "class document:\n",
    "\n",
    "    def __init__(self, path, form):\n",
    "\n",
    "        self.path = path\n",
    "        self.form = form\n",
    "        pass\n",
    "\n",
    "    def parse(self):\n",
    "\n",
    "        if(self.form=='xml'):\n",
    "    \n",
    "            self.objective = et.parse(self.path)\n",
    "            pass\n",
    "\n",
    "        pass\n",
    "    \n",
    "    def get(self, what='string', plan=\"a\"):\n",
    "\n",
    "        if(self.form=='xml'):\n",
    "\n",
    "            if(what=='string'):\n",
    "\n",
    "                if(plan=='a'):\n",
    "\n",
    "                    ##  啥都不管，將所有 element 中的字串提取出來。\n",
    "                    root = self.objective.getroot()\n",
    "                    string = \"\".join([element.text for element in root.iter()])\n",
    "                    self.string = string\n",
    "                    pass\n",
    "                \n",
    "                if(plan=='b'):\n",
    "                    \n",
    "                    ##  假設一篇檔案只包含一篇文章資訊，定義內容為 <Abstract> 中的文字。\n",
    "                    root = self.objective.getroot()\n",
    "                    abstract = root.find(\"PubmedArticle\").find(\"MedlineCitation\").find(\"Article\").find(\"Abstract\").findall(\"AbstractText\")\n",
    "                    string = \"\".join([element.text for element in abstract])\n",
    "                    self.string = string\n",
    "                    pass\n",
    "\n",
    "                pass\n",
    "\n",
    "            pass\n",
    "\n",
    "        pass\n",
    "\n",
    "    pass\n"
   ]
  },
  {
   "cell_type": "code",
   "execution_count": 86,
   "metadata": {},
   "outputs": [],
   "source": [
    "class pair:\n",
    "\n",
    "    def __init__(self, x, y):\n",
    "\n",
    "        self.x = x\n",
    "        self.y = y\n",
    "        return\n",
    "    \n",
    "    def compare(self, plan='a'):\n",
    "\n",
    "        ##  直接比對，簡單粗暴。\n",
    "        if(plan=='a'):\n",
    "\n",
    "            output = True if(self.x==self.y) else False\n",
    "            return(output)\n",
    "\n",
    "        ##  逐一比對。\n",
    "        if(plan=='b'):\n",
    "\n",
    "            endpoint = max(len(self.x), len(self.y))\n",
    "            x =  self.x + \" \" * (endpoint-len(self.x))\n",
    "            y =  self.y + \" \" * (endpoint-len(self.y))\n",
    "            difference = 0\n",
    "            for i, j in zip(x,y):\n",
    "\n",
    "                difference += 0 if(i==j) else 1\n",
    "                pass\n",
    "            \n",
    "            output = True if(difference==0) else False\n",
    "            return(output, difference)\n",
    "            \n",
    "        pass\n",
    "    \n",
    "    pass\n"
   ]
  },
  {
   "cell_type": "markdown",
   "metadata": {},
   "source": [
    "輸入指定兩個文件"
   ]
  },
  {
   "cell_type": "code",
   "execution_count": 113,
   "metadata": {},
   "outputs": [],
   "source": [
    "path = {\n",
    "    'x':'hw1_data/test1.xml',\n",
    "    'y':'hw1_data/test1.xml'\n",
    "}\n",
    "comparsion = {\n",
    "    \"x\":document(path=path['x'], form='xml'),\n",
    "    \"y\":document(path=path['y'], form='xml')\n",
    "}"
   ]
  },
  {
   "cell_type": "markdown",
   "metadata": {},
   "source": [
    "讀取數據，提取字串。"
   ]
  },
  {
   "cell_type": "code",
   "execution_count": 114,
   "metadata": {},
   "outputs": [],
   "source": [
    "comparsion['x'].parse()\n",
    "comparsion['y'].parse()\n",
    "comparsion['x'].get(what='string', plan='a')\n",
    "comparsion['y'].get(what='string', plan='a')\n",
    "string = {\n",
    "    'x':comparsion['x'].string,\n",
    "    'y':comparsion['y'].string\n",
    "}"
   ]
  },
  {
   "cell_type": "markdown",
   "metadata": {},
   "source": [
    "比對兩者是否相同。"
   ]
  },
  {
   "cell_type": "code",
   "execution_count": 115,
   "metadata": {},
   "outputs": [
    {
     "data": {
      "text/plain": [
       "True"
      ]
     },
     "execution_count": 115,
     "metadata": {},
     "output_type": "execute_result"
    }
   ],
   "source": [
    "together = pair(x=string['x'], y=string['y'])\n",
    "together.compare(plan='a')\n"
   ]
  }
 ],
 "metadata": {
  "interpreter": {
   "hash": "cfd9445f6f3f8a334a5bc9f3cc97421fe69a9207dfe33f4318213db4975d4a34"
  },
  "kernelspec": {
   "display_name": "Python 3.7.11 64-bit ('kaggle': conda)",
   "name": "python3"
  },
  "language_info": {
   "codemirror_mode": {
    "name": "ipython",
    "version": 3
   },
   "file_extension": ".py",
   "mimetype": "text/x-python",
   "name": "python",
   "nbconvert_exporter": "python",
   "pygments_lexer": "ipython3",
   "version": "3.7.11"
  },
  "orig_nbformat": 2
 },
 "nbformat": 4,
 "nbformat_minor": 2
}
