{
 "cells": [
  {
   "cell_type": "code",
   "execution_count": 10,
   "source": [
    "\n",
    "\n",
    "##\n",
    "import os\n",
    "import json\n",
    "from xml.etree import ElementTree as et\n",
    "\n",
    "\n",
    "##\n",
    "class load:\n",
    "\n",
    "    def json(path):\n",
    "\n",
    "        with open(path, 'r') as path:\n",
    "\n",
    "            paper = json.load(path)\n",
    "            pass\n",
    "\n",
    "        return(paper)\n",
    "\n",
    "    def xml(path):\n",
    "\n",
    "        paper = et.parse(path)\n",
    "        return(paper)\n",
    "        \n",
    "    pass"
   ],
   "outputs": [],
   "metadata": {}
  },
  {
   "cell_type": "code",
   "execution_count": 20,
   "source": [
    "folder = 'hw1_data'\n",
    "book = [os.path.join(folder, i) for i in os.listdir(folder)]"
   ],
   "outputs": [],
   "metadata": {}
  },
  {
   "cell_type": "code",
   "execution_count": 25,
   "source": [
    "document = load.json(path=book[0])\n",
    "document\n"
   ],
   "outputs": [
    {
     "output_type": "execute_result",
     "data": {
      "text/plain": [
       "[{'username': 'official_hfe',\n",
       "  'full_name': 'Hands For Education',\n",
       "  'twitter_url': 'https://twitter.com/official_hfe/status/1307566084824788992',\n",
       "  'tweet_text': '\"The Bersama-sama Project is a fundraiser with the objective to raise RM 7,500 to supply the B40 community with care packages. Each care package consists of supplies that are necessary to help the less fortunate overcome the covid-19 crisis and cost at RM27 per unit. #KitaJagaKita… https',\n",
       "  'tweet_time': '2020-09-19 23:23:00',\n",
       "  'number_of_likes': '9',\n",
       "  'no_of_retweets': '18',\n",
       "  'no_of_replies': '1',\n",
       "  'mentions': '',\n",
       "  'no_of_mentions': '0',\n",
       "  'hashtags': 'KitaJagaKita',\n",
       "  'no_of_hashtags': '1',\n",
       "  'call_to_action': '',\n",
       "  'image_url': 'https://pbs.twimg.com/media/EiVoa6eUMAAg3WJ.jpg | https://pbs.twimg.com/media/EiVoa6eVoAEzamf.jpg'},\n",
       " {'username': '',\n",
       "  'full_name': '',\n",
       "  'twitter_url': 'https://twitter.com/JuliaHB1/status/1307588418260684800',\n",
       "  'tweet_text': '\"I\\'m going to tweet this again to give you an idea of how serious the rate of false positives really is. This image is an example of a test which is FAR more accurate than the Covid-19 tests being used in the community. The maths seems unbelievable but it\\'s correct.… https',\n",
       "  'tweet_time': '2020-09-20 00:52:00',\n",
       "  'number_of_likes': '340',\n",
       "  'no_of_retweets': '212',\n",
       "  'no_of_replies': '39',\n",
       "  'mentions': '',\n",
       "  'no_of_mentions': '0',\n",
       "  'hashtags': '',\n",
       "  'no_of_hashtags': '0',\n",
       "  'call_to_action': '',\n",
       "  'image_url': 'https://pbs.twimg.com/media/EiV8u_dXsAET37K.jpg'},\n",
       " {'username': 'postsubman',\n",
       "  'full_name': 'Postsubman',\n",
       "  'twitter_url': 'https://twitter.com/Postsubman/status/1307569873044803584',\n",
       "  'tweet_text': '\"- How a 6years old girl d*es of covid-19 within 7days after school resumption.… \"',\n",
       "  'tweet_time': '2020-09-19 23:38:00',\n",
       "  'number_of_likes': '367',\n",
       "  'no_of_retweets': '238',\n",
       "  'no_of_replies': '21',\n",
       "  'mentions': '',\n",
       "  'no_of_mentions': '0',\n",
       "  'hashtags': '',\n",
       "  'no_of_hashtags': '0',\n",
       "  'call_to_action': '',\n",
       "  'image_url': 'https://pbs.twimg.com/media/EiVr3T1WkAEAytw.jpg'},\n",
       " {'username': 'politicalmbuzi',\n",
       "  'full_name': 'Ssekindi Faizo A',\n",
       "  'twitter_url': 'https://twitter.com/PoliticalMbuzi/status/1307602520538259457',\n",
       "  'tweet_text': '\"What a week \\n1. Kadaga gift\\n2. Prison break\\n3. MUK - fire\\n4. Parliament covid bus on fire\\n5. Rukutana\\n6. Bank auction stopped \\n7. All COVID-19 funds stolen\\n8. Katwe police fire\\n9. Man-U thumped by Crystal Palace \\n10. Kibalama on gun point against NUP What a week! #UgVotes2021… https',\n",
       "  'tweet_time': '2020-09-20 01:48:00',\n",
       "  'number_of_likes': '3',\n",
       "  'no_of_retweets': '',\n",
       "  'no_of_replies': '0',\n",
       "  'mentions': '',\n",
       "  'no_of_mentions': '0',\n",
       "  'hashtags': 'UgVotes2021',\n",
       "  'no_of_hashtags': '1',\n",
       "  'call_to_action': '',\n",
       "  'image_url': 'https://pbs.twimg.com/media/EiWJj9-XgAA6MOk.jpg'},\n",
       " {'username': 'bulamabukarti',\n",
       "  'full_name': 'Bulama Bukarti',\n",
       "  'twitter_url': 'https://twitter.com/bulamabukarti/status/1307596910212067330',\n",
       "  'tweet_text': '\"Hehehe! \\n\\nWhen you see APC publishing updates on Covid-19 instead of the Edo election as though it’s NCDC, you know the election has been won and lost.… https',\n",
       "  'tweet_time': '2020-09-20 01:26:00',\n",
       "  'number_of_likes': '147',\n",
       "  'no_of_retweets': '55',\n",
       "  'no_of_replies': '21',\n",
       "  'mentions': '',\n",
       "  'no_of_mentions': '0',\n",
       "  'hashtags': '',\n",
       "  'no_of_hashtags': '0',\n",
       "  'call_to_action': '',\n",
       "  'image_url': ''}]"
      ]
     },
     "metadata": {},
     "execution_count": 25
    }
   ],
   "metadata": {}
  },
  {
   "cell_type": "code",
   "execution_count": null,
   "source": [],
   "outputs": [],
   "metadata": {}
  },
  {
   "cell_type": "code",
   "execution_count": null,
   "source": [
    "load.xml(path=book[3])"
   ],
   "outputs": [],
   "metadata": {}
  },
  {
   "cell_type": "code",
   "execution_count": null,
   "source": [],
   "outputs": [],
   "metadata": {}
  }
 ],
 "metadata": {
  "orig_nbformat": 4,
  "language_info": {
   "name": "python",
   "version": "3.7.11",
   "mimetype": "text/x-python",
   "codemirror_mode": {
    "name": "ipython",
    "version": 3
   },
   "pygments_lexer": "ipython3",
   "nbconvert_exporter": "python",
   "file_extension": ".py"
  },
  "kernelspec": {
   "name": "python3",
   "display_name": "Python 3.7.11 64-bit ('kaggle': conda)"
  },
  "interpreter": {
   "hash": "4cccc9253a97be6bfa179811742e359441dab23dea9b85717016d6b8ba8b672c"
  }
 },
 "nbformat": 4,
 "nbformat_minor": 2
}