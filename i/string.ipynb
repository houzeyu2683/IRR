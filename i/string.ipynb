{
 "cells": [
  {
   "cell_type": "code",
   "execution_count": 2,
   "source": [
    "import os\n",
    "from xml.etree import ElementTree as et\n",
    "import json"
   ],
   "outputs": [],
   "metadata": {}
  },
  {
   "cell_type": "code",
   "execution_count": 5,
   "source": [
    "folder = \"hw1_data\"\n",
    "group = []\n",
    "for name in os.listdir(folder):\n",
    "\n",
    "    path = os.path.join(folder, name)\n",
    "    if('xml' in name):\n",
    "\n",
    "        data = et.parse(path)\n",
    "        root = data.getroot()\n",
    "        string = \" \".join([e.text for e in root.iter()])\n",
    "        group += [string]\n",
    "        pass\n",
    "\n",
    "    if('json' in name):\n",
    "\n",
    "        with open(path, 'r') as paper:\n",
    "\n",
    "            data = json.load(paper)\n",
    "            pass\n",
    "\n",
    "        string = []\n",
    "        for i in data:\n",
    "\n",
    "            for k, v in i.items():\n",
    "\n",
    "                string += [v]        \n",
    "                pass\n",
    "\n",
    "            pass\n",
    "\n",
    "        string = \" \".join(string)\n",
    "        group += [string]\n",
    "        pass\n",
    "\n",
    "    pass"
   ],
   "outputs": [],
   "metadata": {}
  },
  {
   "cell_type": "code",
   "execution_count": null,
   "source": [],
   "outputs": [],
   "metadata": {}
  }
 ],
 "metadata": {
  "orig_nbformat": 4,
  "language_info": {
   "name": "python",
   "version": "3.7.11",
   "mimetype": "text/x-python",
   "codemirror_mode": {
    "name": "ipython",
    "version": 3
   },
   "pygments_lexer": "ipython3",
   "nbconvert_exporter": "python",
   "file_extension": ".py"
  },
  "kernelspec": {
   "name": "python3",
   "display_name": "Python 3.7.11 64-bit ('kaggle': conda)"
  },
  "interpreter": {
   "hash": "4cccc9253a97be6bfa179811742e359441dab23dea9b85717016d6b8ba8b672c"
  }
 },
 "nbformat": 4,
 "nbformat_minor": 2
}